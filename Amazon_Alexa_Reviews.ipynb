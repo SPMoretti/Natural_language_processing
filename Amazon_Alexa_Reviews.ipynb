{
 "cells": [
  {
   "cell_type": "markdown",
   "metadata": {},
   "source": [
    "# Amazon Alexa Reviews"
   ]
  },
  {
   "cell_type": "markdown",
   "metadata": {},
   "source": [
    "En este notebook se busca predecir comentarios positivos o negativos respecto al producto Amazon Alexa"
   ]
  },
  {
   "cell_type": "code",
   "execution_count": 1,
   "metadata": {},
   "outputs": [],
   "source": [
    "import numpy as np\n",
    "import pandas as pd\n",
    "import matplotlib.pyplot as plt\n",
    "%matplotlib inline\n",
    "import seaborn as sns\n",
    "import warnings\n",
    "warnings.filterwarnings(\"ignore\")"
   ]
  },
  {
   "cell_type": "code",
   "execution_count": 2,
   "metadata": {},
   "outputs": [],
   "source": [
    "df=pd.read_csv('amazon_alexa.tsv', delimiter = '\\t', quoting = 3)"
   ]
  },
  {
   "cell_type": "code",
   "execution_count": 3,
   "metadata": {},
   "outputs": [
    {
     "data": {
      "text/html": [
       "<div>\n",
       "<style scoped>\n",
       "    .dataframe tbody tr th:only-of-type {\n",
       "        vertical-align: middle;\n",
       "    }\n",
       "\n",
       "    .dataframe tbody tr th {\n",
       "        vertical-align: top;\n",
       "    }\n",
       "\n",
       "    .dataframe thead th {\n",
       "        text-align: right;\n",
       "    }\n",
       "</style>\n",
       "<table border=\"1\" class=\"dataframe\">\n",
       "  <thead>\n",
       "    <tr style=\"text-align: right;\">\n",
       "      <th></th>\n",
       "      <th>rating</th>\n",
       "      <th>date</th>\n",
       "      <th>variation</th>\n",
       "      <th>verified_reviews</th>\n",
       "      <th>feedback</th>\n",
       "    </tr>\n",
       "  </thead>\n",
       "  <tbody>\n",
       "    <tr>\n",
       "      <td>0</td>\n",
       "      <td>5</td>\n",
       "      <td>31-Jul-18</td>\n",
       "      <td>Charcoal Fabric</td>\n",
       "      <td>Love my Echo!</td>\n",
       "      <td>1</td>\n",
       "    </tr>\n",
       "    <tr>\n",
       "      <td>1</td>\n",
       "      <td>5</td>\n",
       "      <td>31-Jul-18</td>\n",
       "      <td>Charcoal Fabric</td>\n",
       "      <td>Loved it!</td>\n",
       "      <td>1</td>\n",
       "    </tr>\n",
       "    <tr>\n",
       "      <td>2</td>\n",
       "      <td>4</td>\n",
       "      <td>31-Jul-18</td>\n",
       "      <td>Walnut Finish</td>\n",
       "      <td>\"Sometimes while playing a game, you can answe...</td>\n",
       "      <td>1</td>\n",
       "    </tr>\n",
       "    <tr>\n",
       "      <td>3</td>\n",
       "      <td>5</td>\n",
       "      <td>31-Jul-18</td>\n",
       "      <td>Charcoal Fabric</td>\n",
       "      <td>\"I have had a lot of fun with this thing. My 4...</td>\n",
       "      <td>1</td>\n",
       "    </tr>\n",
       "    <tr>\n",
       "      <td>4</td>\n",
       "      <td>5</td>\n",
       "      <td>31-Jul-18</td>\n",
       "      <td>Charcoal Fabric</td>\n",
       "      <td>Music</td>\n",
       "      <td>1</td>\n",
       "    </tr>\n",
       "    <tr>\n",
       "      <td>...</td>\n",
       "      <td>...</td>\n",
       "      <td>...</td>\n",
       "      <td>...</td>\n",
       "      <td>...</td>\n",
       "      <td>...</td>\n",
       "    </tr>\n",
       "    <tr>\n",
       "      <td>3145</td>\n",
       "      <td>5</td>\n",
       "      <td>30-Jul-18</td>\n",
       "      <td>Black  Dot</td>\n",
       "      <td>\"Perfect for kids, adults and everyone in betw...</td>\n",
       "      <td>1</td>\n",
       "    </tr>\n",
       "    <tr>\n",
       "      <td>3146</td>\n",
       "      <td>5</td>\n",
       "      <td>30-Jul-18</td>\n",
       "      <td>Black  Dot</td>\n",
       "      <td>\"Listening to music, searching locations, chec...</td>\n",
       "      <td>1</td>\n",
       "    </tr>\n",
       "    <tr>\n",
       "      <td>3147</td>\n",
       "      <td>5</td>\n",
       "      <td>30-Jul-18</td>\n",
       "      <td>Black  Dot</td>\n",
       "      <td>\"I do love these things, i have them running m...</td>\n",
       "      <td>1</td>\n",
       "    </tr>\n",
       "    <tr>\n",
       "      <td>3148</td>\n",
       "      <td>5</td>\n",
       "      <td>30-Jul-18</td>\n",
       "      <td>White  Dot</td>\n",
       "      <td>\"Only complaint I have is that the sound quali...</td>\n",
       "      <td>1</td>\n",
       "    </tr>\n",
       "    <tr>\n",
       "      <td>3149</td>\n",
       "      <td>4</td>\n",
       "      <td>29-Jul-18</td>\n",
       "      <td>Black  Dot</td>\n",
       "      <td>Good</td>\n",
       "      <td>1</td>\n",
       "    </tr>\n",
       "  </tbody>\n",
       "</table>\n",
       "<p>3150 rows × 5 columns</p>\n",
       "</div>"
      ],
      "text/plain": [
       "      rating       date         variation  \\\n",
       "0          5  31-Jul-18  Charcoal Fabric    \n",
       "1          5  31-Jul-18  Charcoal Fabric    \n",
       "2          4  31-Jul-18    Walnut Finish    \n",
       "3          5  31-Jul-18  Charcoal Fabric    \n",
       "4          5  31-Jul-18  Charcoal Fabric    \n",
       "...      ...        ...               ...   \n",
       "3145       5  30-Jul-18        Black  Dot   \n",
       "3146       5  30-Jul-18        Black  Dot   \n",
       "3147       5  30-Jul-18        Black  Dot   \n",
       "3148       5  30-Jul-18        White  Dot   \n",
       "3149       4  29-Jul-18        Black  Dot   \n",
       "\n",
       "                                       verified_reviews  feedback  \n",
       "0                                         Love my Echo!         1  \n",
       "1                                             Loved it!         1  \n",
       "2     \"Sometimes while playing a game, you can answe...         1  \n",
       "3     \"I have had a lot of fun with this thing. My 4...         1  \n",
       "4                                                 Music         1  \n",
       "...                                                 ...       ...  \n",
       "3145  \"Perfect for kids, adults and everyone in betw...         1  \n",
       "3146  \"Listening to music, searching locations, chec...         1  \n",
       "3147  \"I do love these things, i have them running m...         1  \n",
       "3148  \"Only complaint I have is that the sound quali...         1  \n",
       "3149                                               Good         1  \n",
       "\n",
       "[3150 rows x 5 columns]"
      ]
     },
     "execution_count": 3,
     "metadata": {},
     "output_type": "execute_result"
    }
   ],
   "source": [
    "df"
   ]
  },
  {
   "cell_type": "markdown",
   "metadata": {},
   "source": [
    "## Exploración de datos"
   ]
  },
  {
   "cell_type": "code",
   "execution_count": 4,
   "metadata": {},
   "outputs": [
    {
     "name": "stdout",
     "output_type": "stream",
     "text": [
      "[5 4 3 2 1]\n"
     ]
    },
    {
     "data": {
      "text/html": [
       "<div>\n",
       "<style scoped>\n",
       "    .dataframe tbody tr th:only-of-type {\n",
       "        vertical-align: middle;\n",
       "    }\n",
       "\n",
       "    .dataframe tbody tr th {\n",
       "        vertical-align: top;\n",
       "    }\n",
       "\n",
       "    .dataframe thead th {\n",
       "        text-align: right;\n",
       "    }\n",
       "</style>\n",
       "<table border=\"1\" class=\"dataframe\">\n",
       "  <thead>\n",
       "    <tr style=\"text-align: right;\">\n",
       "      <th></th>\n",
       "      <th>rating</th>\n",
       "      <th>date</th>\n",
       "      <th>variation</th>\n",
       "      <th>verified_reviews</th>\n",
       "      <th>feedback</th>\n",
       "    </tr>\n",
       "  </thead>\n",
       "  <tbody>\n",
       "    <tr>\n",
       "      <td>141</td>\n",
       "      <td>1</td>\n",
       "      <td>30-Jul-18</td>\n",
       "      <td>Charcoal Fabric</td>\n",
       "      <td>Not much features.</td>\n",
       "      <td>0</td>\n",
       "    </tr>\n",
       "    <tr>\n",
       "      <td>162</td>\n",
       "      <td>1</td>\n",
       "      <td>30-Jul-18</td>\n",
       "      <td>Sandstone Fabric</td>\n",
       "      <td>\"Stopped working after 2 weeks ,didn't follow ...</td>\n",
       "      <td>0</td>\n",
       "    </tr>\n",
       "    <tr>\n",
       "      <td>341</td>\n",
       "      <td>1</td>\n",
       "      <td>28-Jul-18</td>\n",
       "      <td>Charcoal Fabric</td>\n",
       "      <td>Alexa hardly came on..</td>\n",
       "      <td>0</td>\n",
       "    </tr>\n",
       "    <tr>\n",
       "      <td>350</td>\n",
       "      <td>1</td>\n",
       "      <td>31-Jul-18</td>\n",
       "      <td>Black</td>\n",
       "      <td>Item no longer works after just 5 months of us...</td>\n",
       "      <td>0</td>\n",
       "    </tr>\n",
       "    <tr>\n",
       "      <td>361</td>\n",
       "      <td>1</td>\n",
       "      <td>29-Jul-18</td>\n",
       "      <td>Black</td>\n",
       "      <td>This thing barely works. You have to select 3r...</td>\n",
       "      <td>0</td>\n",
       "    </tr>\n",
       "    <tr>\n",
       "      <td>...</td>\n",
       "      <td>...</td>\n",
       "      <td>...</td>\n",
       "      <td>...</td>\n",
       "      <td>...</td>\n",
       "      <td>...</td>\n",
       "    </tr>\n",
       "    <tr>\n",
       "      <td>3024</td>\n",
       "      <td>1</td>\n",
       "      <td>30-Jul-18</td>\n",
       "      <td>Black  Dot</td>\n",
       "      <td>\"I was really happy with my original echo so i...</td>\n",
       "      <td>0</td>\n",
       "    </tr>\n",
       "    <tr>\n",
       "      <td>3047</td>\n",
       "      <td>1</td>\n",
       "      <td>30-Jul-18</td>\n",
       "      <td>Black  Dot</td>\n",
       "      <td>Echo Dot responds to us when we aren't even ta...</td>\n",
       "      <td>0</td>\n",
       "    </tr>\n",
       "    <tr>\n",
       "      <td>3048</td>\n",
       "      <td>1</td>\n",
       "      <td>30-Jul-18</td>\n",
       "      <td>White  Dot</td>\n",
       "      <td>NOT CONNECTED TO MY PHONE PLAYLIST :(</td>\n",
       "      <td>0</td>\n",
       "    </tr>\n",
       "    <tr>\n",
       "      <td>3091</td>\n",
       "      <td>1</td>\n",
       "      <td>30-Jul-18</td>\n",
       "      <td>Black  Dot</td>\n",
       "      <td>I didn’t order it</td>\n",
       "      <td>0</td>\n",
       "    </tr>\n",
       "    <tr>\n",
       "      <td>3096</td>\n",
       "      <td>1</td>\n",
       "      <td>30-Jul-18</td>\n",
       "      <td>White  Dot</td>\n",
       "      <td>The product sounded the same as the emoji spea...</td>\n",
       "      <td>0</td>\n",
       "    </tr>\n",
       "  </tbody>\n",
       "</table>\n",
       "<p>161 rows × 5 columns</p>\n",
       "</div>"
      ],
      "text/plain": [
       "      rating       date          variation  \\\n",
       "141        1  30-Jul-18   Charcoal Fabric    \n",
       "162        1  30-Jul-18  Sandstone Fabric    \n",
       "341        1  28-Jul-18   Charcoal Fabric    \n",
       "350        1  31-Jul-18              Black   \n",
       "361        1  29-Jul-18              Black   \n",
       "...      ...        ...                ...   \n",
       "3024       1  30-Jul-18         Black  Dot   \n",
       "3047       1  30-Jul-18         Black  Dot   \n",
       "3048       1  30-Jul-18         White  Dot   \n",
       "3091       1  30-Jul-18         Black  Dot   \n",
       "3096       1  30-Jul-18         White  Dot   \n",
       "\n",
       "                                       verified_reviews  feedback  \n",
       "141                                  Not much features.         0  \n",
       "162   \"Stopped working after 2 weeks ,didn't follow ...         0  \n",
       "341                              Alexa hardly came on..         0  \n",
       "350   Item no longer works after just 5 months of us...         0  \n",
       "361   This thing barely works. You have to select 3r...         0  \n",
       "...                                                 ...       ...  \n",
       "3024  \"I was really happy with my original echo so i...         0  \n",
       "3047  Echo Dot responds to us when we aren't even ta...         0  \n",
       "3048              NOT CONNECTED TO MY PHONE PLAYLIST :(         0  \n",
       "3091                                  I didn’t order it         0  \n",
       "3096  The product sounded the same as the emoji spea...         0  \n",
       "\n",
       "[161 rows x 5 columns]"
      ]
     },
     "execution_count": 4,
     "metadata": {},
     "output_type": "execute_result"
    }
   ],
   "source": [
    "print(df.rating.unique())\n",
    "#Se muestran algunos de los peores comentarios\n",
    "df[df.rating==1]"
   ]
  },
  {
   "cell_type": "code",
   "execution_count": 5,
   "metadata": {},
   "outputs": [],
   "source": [
    "#Se muestran algunos de los mejores comentarios"
   ]
  },
  {
   "cell_type": "code",
   "execution_count": 6,
   "metadata": {},
   "outputs": [
    {
     "data": {
      "text/html": [
       "<div>\n",
       "<style scoped>\n",
       "    .dataframe tbody tr th:only-of-type {\n",
       "        vertical-align: middle;\n",
       "    }\n",
       "\n",
       "    .dataframe tbody tr th {\n",
       "        vertical-align: top;\n",
       "    }\n",
       "\n",
       "    .dataframe thead th {\n",
       "        text-align: right;\n",
       "    }\n",
       "</style>\n",
       "<table border=\"1\" class=\"dataframe\">\n",
       "  <thead>\n",
       "    <tr style=\"text-align: right;\">\n",
       "      <th></th>\n",
       "      <th>rating</th>\n",
       "      <th>date</th>\n",
       "      <th>variation</th>\n",
       "      <th>verified_reviews</th>\n",
       "      <th>feedback</th>\n",
       "    </tr>\n",
       "  </thead>\n",
       "  <tbody>\n",
       "    <tr>\n",
       "      <td>0</td>\n",
       "      <td>5</td>\n",
       "      <td>31-Jul-18</td>\n",
       "      <td>Charcoal Fabric</td>\n",
       "      <td>Love my Echo!</td>\n",
       "      <td>1</td>\n",
       "    </tr>\n",
       "    <tr>\n",
       "      <td>1</td>\n",
       "      <td>5</td>\n",
       "      <td>31-Jul-18</td>\n",
       "      <td>Charcoal Fabric</td>\n",
       "      <td>Loved it!</td>\n",
       "      <td>1</td>\n",
       "    </tr>\n",
       "    <tr>\n",
       "      <td>3</td>\n",
       "      <td>5</td>\n",
       "      <td>31-Jul-18</td>\n",
       "      <td>Charcoal Fabric</td>\n",
       "      <td>\"I have had a lot of fun with this thing. My 4...</td>\n",
       "      <td>1</td>\n",
       "    </tr>\n",
       "    <tr>\n",
       "      <td>4</td>\n",
       "      <td>5</td>\n",
       "      <td>31-Jul-18</td>\n",
       "      <td>Charcoal Fabric</td>\n",
       "      <td>Music</td>\n",
       "      <td>1</td>\n",
       "    </tr>\n",
       "    <tr>\n",
       "      <td>5</td>\n",
       "      <td>5</td>\n",
       "      <td>31-Jul-18</td>\n",
       "      <td>Heather Gray Fabric</td>\n",
       "      <td>\"I received the echo as a gift. I needed anoth...</td>\n",
       "      <td>1</td>\n",
       "    </tr>\n",
       "    <tr>\n",
       "      <td>...</td>\n",
       "      <td>...</td>\n",
       "      <td>...</td>\n",
       "      <td>...</td>\n",
       "      <td>...</td>\n",
       "      <td>...</td>\n",
       "    </tr>\n",
       "    <tr>\n",
       "      <td>3144</td>\n",
       "      <td>5</td>\n",
       "      <td>30-Jul-18</td>\n",
       "      <td>Black  Dot</td>\n",
       "      <td>love it</td>\n",
       "      <td>1</td>\n",
       "    </tr>\n",
       "    <tr>\n",
       "      <td>3145</td>\n",
       "      <td>5</td>\n",
       "      <td>30-Jul-18</td>\n",
       "      <td>Black  Dot</td>\n",
       "      <td>\"Perfect for kids, adults and everyone in betw...</td>\n",
       "      <td>1</td>\n",
       "    </tr>\n",
       "    <tr>\n",
       "      <td>3146</td>\n",
       "      <td>5</td>\n",
       "      <td>30-Jul-18</td>\n",
       "      <td>Black  Dot</td>\n",
       "      <td>\"Listening to music, searching locations, chec...</td>\n",
       "      <td>1</td>\n",
       "    </tr>\n",
       "    <tr>\n",
       "      <td>3147</td>\n",
       "      <td>5</td>\n",
       "      <td>30-Jul-18</td>\n",
       "      <td>Black  Dot</td>\n",
       "      <td>\"I do love these things, i have them running m...</td>\n",
       "      <td>1</td>\n",
       "    </tr>\n",
       "    <tr>\n",
       "      <td>3148</td>\n",
       "      <td>5</td>\n",
       "      <td>30-Jul-18</td>\n",
       "      <td>White  Dot</td>\n",
       "      <td>\"Only complaint I have is that the sound quali...</td>\n",
       "      <td>1</td>\n",
       "    </tr>\n",
       "  </tbody>\n",
       "</table>\n",
       "<p>2286 rows × 5 columns</p>\n",
       "</div>"
      ],
      "text/plain": [
       "      rating       date             variation  \\\n",
       "0          5  31-Jul-18      Charcoal Fabric    \n",
       "1          5  31-Jul-18      Charcoal Fabric    \n",
       "3          5  31-Jul-18      Charcoal Fabric    \n",
       "4          5  31-Jul-18      Charcoal Fabric    \n",
       "5          5  31-Jul-18  Heather Gray Fabric    \n",
       "...      ...        ...                   ...   \n",
       "3144       5  30-Jul-18            Black  Dot   \n",
       "3145       5  30-Jul-18            Black  Dot   \n",
       "3146       5  30-Jul-18            Black  Dot   \n",
       "3147       5  30-Jul-18            Black  Dot   \n",
       "3148       5  30-Jul-18            White  Dot   \n",
       "\n",
       "                                       verified_reviews  feedback  \n",
       "0                                         Love my Echo!         1  \n",
       "1                                             Loved it!         1  \n",
       "3     \"I have had a lot of fun with this thing. My 4...         1  \n",
       "4                                                 Music         1  \n",
       "5     \"I received the echo as a gift. I needed anoth...         1  \n",
       "...                                                 ...       ...  \n",
       "3144                                            love it         1  \n",
       "3145  \"Perfect for kids, adults and everyone in betw...         1  \n",
       "3146  \"Listening to music, searching locations, chec...         1  \n",
       "3147  \"I do love these things, i have them running m...         1  \n",
       "3148  \"Only complaint I have is that the sound quali...         1  \n",
       "\n",
       "[2286 rows x 5 columns]"
      ]
     },
     "execution_count": 6,
     "metadata": {},
     "output_type": "execute_result"
    }
   ],
   "source": [
    "df[df.rating==5]"
   ]
  },
  {
   "cell_type": "code",
   "execution_count": 7,
   "metadata": {},
   "outputs": [
    {
     "data": {
      "text/html": [
       "<div>\n",
       "<style scoped>\n",
       "    .dataframe tbody tr th:only-of-type {\n",
       "        vertical-align: middle;\n",
       "    }\n",
       "\n",
       "    .dataframe tbody tr th {\n",
       "        vertical-align: top;\n",
       "    }\n",
       "\n",
       "    .dataframe thead th {\n",
       "        text-align: right;\n",
       "    }\n",
       "</style>\n",
       "<table border=\"1\" class=\"dataframe\">\n",
       "  <thead>\n",
       "    <tr style=\"text-align: right;\">\n",
       "      <th></th>\n",
       "      <th>rating</th>\n",
       "      <th>date</th>\n",
       "      <th>variation</th>\n",
       "      <th>verified_reviews</th>\n",
       "      <th>feedback</th>\n",
       "    </tr>\n",
       "  </thead>\n",
       "  <tbody>\n",
       "    <tr>\n",
       "      <td>6</td>\n",
       "      <td>3</td>\n",
       "      <td>31-Jul-18</td>\n",
       "      <td>Sandstone Fabric</td>\n",
       "      <td>\"Without having a cellphone, I cannot use many...</td>\n",
       "      <td>1</td>\n",
       "    </tr>\n",
       "    <tr>\n",
       "      <td>24</td>\n",
       "      <td>3</td>\n",
       "      <td>30-Jul-18</td>\n",
       "      <td>Sandstone Fabric</td>\n",
       "      <td>\"I got a second unit for the bedroom, I was ex...</td>\n",
       "      <td>1</td>\n",
       "    </tr>\n",
       "    <tr>\n",
       "      <td>33</td>\n",
       "      <td>3</td>\n",
       "      <td>30-Jul-18</td>\n",
       "      <td>Heather Gray Fabric</td>\n",
       "      <td>The speakers sound pretty good for being so sm...</td>\n",
       "      <td>1</td>\n",
       "    </tr>\n",
       "    <tr>\n",
       "      <td>49</td>\n",
       "      <td>3</td>\n",
       "      <td>30-Jul-18</td>\n",
       "      <td>Charcoal Fabric</td>\n",
       "      <td>No different than Apple. To play a specific li...</td>\n",
       "      <td>1</td>\n",
       "    </tr>\n",
       "    <tr>\n",
       "      <td>54</td>\n",
       "      <td>3</td>\n",
       "      <td>30-Jul-18</td>\n",
       "      <td>Sandstone Fabric</td>\n",
       "      <td>like google better</td>\n",
       "      <td>1</td>\n",
       "    </tr>\n",
       "    <tr>\n",
       "      <td>...</td>\n",
       "      <td>...</td>\n",
       "      <td>...</td>\n",
       "      <td>...</td>\n",
       "      <td>...</td>\n",
       "      <td>...</td>\n",
       "    </tr>\n",
       "    <tr>\n",
       "      <td>3059</td>\n",
       "      <td>3</td>\n",
       "      <td>30-Jul-18</td>\n",
       "      <td>White  Dot</td>\n",
       "      <td>Works well. Just disappointed with the speaker...</td>\n",
       "      <td>1</td>\n",
       "    </tr>\n",
       "    <tr>\n",
       "      <td>3068</td>\n",
       "      <td>3</td>\n",
       "      <td>30-Jul-18</td>\n",
       "      <td>White  Dot</td>\n",
       "      <td>I was hoping the cord was white also. Otherwis...</td>\n",
       "      <td>1</td>\n",
       "    </tr>\n",
       "    <tr>\n",
       "      <td>3114</td>\n",
       "      <td>3</td>\n",
       "      <td>30-Jul-18</td>\n",
       "      <td>Black  Dot</td>\n",
       "      <td></td>\n",
       "      <td>1</td>\n",
       "    </tr>\n",
       "    <tr>\n",
       "      <td>3122</td>\n",
       "      <td>3</td>\n",
       "      <td>30-Jul-18</td>\n",
       "      <td>Black  Dot</td>\n",
       "      <td>I dislike that it confuses my requests all the...</td>\n",
       "      <td>1</td>\n",
       "    </tr>\n",
       "    <tr>\n",
       "      <td>3141</td>\n",
       "      <td>3</td>\n",
       "      <td>30-Jul-18</td>\n",
       "      <td>Black  Dot</td>\n",
       "      <td></td>\n",
       "      <td>1</td>\n",
       "    </tr>\n",
       "  </tbody>\n",
       "</table>\n",
       "<p>152 rows × 5 columns</p>\n",
       "</div>"
      ],
      "text/plain": [
       "      rating       date             variation  \\\n",
       "6          3  31-Jul-18     Sandstone Fabric    \n",
       "24         3  30-Jul-18     Sandstone Fabric    \n",
       "33         3  30-Jul-18  Heather Gray Fabric    \n",
       "49         3  30-Jul-18      Charcoal Fabric    \n",
       "54         3  30-Jul-18     Sandstone Fabric    \n",
       "...      ...        ...                   ...   \n",
       "3059       3  30-Jul-18            White  Dot   \n",
       "3068       3  30-Jul-18            White  Dot   \n",
       "3114       3  30-Jul-18            Black  Dot   \n",
       "3122       3  30-Jul-18            Black  Dot   \n",
       "3141       3  30-Jul-18            Black  Dot   \n",
       "\n",
       "                                       verified_reviews  feedback  \n",
       "6     \"Without having a cellphone, I cannot use many...         1  \n",
       "24    \"I got a second unit for the bedroom, I was ex...         1  \n",
       "33    The speakers sound pretty good for being so sm...         1  \n",
       "49    No different than Apple. To play a specific li...         1  \n",
       "54                                   like google better         1  \n",
       "...                                                 ...       ...  \n",
       "3059  Works well. Just disappointed with the speaker...         1  \n",
       "3068  I was hoping the cord was white also. Otherwis...         1  \n",
       "3114                                                            1  \n",
       "3122  I dislike that it confuses my requests all the...         1  \n",
       "3141                                                            1  \n",
       "\n",
       "[152 rows x 5 columns]"
      ]
     },
     "execution_count": 7,
     "metadata": {},
     "output_type": "execute_result"
    }
   ],
   "source": [
    "df[(df.rating==3) & (df.feedback==1)]"
   ]
  },
  {
   "cell_type": "code",
   "execution_count": 8,
   "metadata": {},
   "outputs": [
    {
     "data": {
      "text/html": [
       "<div>\n",
       "<style scoped>\n",
       "    .dataframe tbody tr th:only-of-type {\n",
       "        vertical-align: middle;\n",
       "    }\n",
       "\n",
       "    .dataframe tbody tr th {\n",
       "        vertical-align: top;\n",
       "    }\n",
       "\n",
       "    .dataframe thead th {\n",
       "        text-align: right;\n",
       "    }\n",
       "</style>\n",
       "<table border=\"1\" class=\"dataframe\">\n",
       "  <thead>\n",
       "    <tr style=\"text-align: right;\">\n",
       "      <th></th>\n",
       "      <th>rating</th>\n",
       "      <th>date</th>\n",
       "      <th>variation</th>\n",
       "      <th>verified_reviews</th>\n",
       "      <th>feedback</th>\n",
       "    </tr>\n",
       "  </thead>\n",
       "  <tbody>\n",
       "  </tbody>\n",
       "</table>\n",
       "</div>"
      ],
      "text/plain": [
       "Empty DataFrame\n",
       "Columns: [rating, date, variation, verified_reviews, feedback]\n",
       "Index: []"
      ]
     },
     "execution_count": 8,
     "metadata": {},
     "output_type": "execute_result"
    }
   ],
   "source": [
    "df[(df.rating==3) & (df.feedback==0)]"
   ]
  },
  {
   "cell_type": "code",
   "execution_count": 9,
   "metadata": {},
   "outputs": [
    {
     "data": {
      "text/plain": [
       "<matplotlib.axes._subplots.AxesSubplot at 0x1c4aafa8408>"
      ]
     },
     "execution_count": 9,
     "metadata": {},
     "output_type": "execute_result"
    },
    {
     "data": {
      "image/png": "[encoded data removed]",
      "text/plain": [
       "<Figure size 432x288 with 1 Axes>"
      ]
     },
     "metadata": {
      "needs_background": "light"
     },
     "output_type": "display_data"
    }
   ],
   "source": [
    "sns.countplot(df.rating, data=df, hue=\"feedback\")"
   ]
  },
  {
   "cell_type": "markdown",
   "metadata": {},
   "source": [
    "Como se ve, los comentarios con rating 1 y 2 son clasificados como negativos y el resto positivos. Tambíen se ve que el dataset está muy desbalanceado para el lado de los positivos."
   ]
  },
  {
   "cell_type": "code",
   "execution_count": 10,
   "metadata": {},
   "outputs": [
    {
     "data": {
      "image/png": "[encoded data removed]",
      "text/plain": [
       "<Figure size 432x288 with 1 Axes>"
      ]
     },
     "metadata": {},
     "output_type": "display_data"
    }
   ],
   "source": [
    "plt.pie(x=df.feedback.unique(), labels=[\"Pos\", \"Neg\"], colors=[\"Green\", \"Red\"])\n",
    "plt.axis(\"equal\")\n",
    "plt.show()"
   ]
  },
  {
   "cell_type": "code",
   "execution_count": 11,
   "metadata": {},
   "outputs": [
    {
     "name": "stdout",
     "output_type": "stream",
     "text": [
      "<class 'pandas.core.frame.DataFrame'>\n",
      "RangeIndex: 3150 entries, 0 to 3149\n",
      "Data columns (total 5 columns):\n",
      "rating              3150 non-null int64\n",
      "date                3150 non-null object\n",
      "variation           3150 non-null object\n",
      "verified_reviews    3150 non-null object\n",
      "feedback            3150 non-null int64\n",
      "dtypes: int64(2), object(3)\n",
      "memory usage: 123.2+ KB\n"
     ]
    }
   ],
   "source": [
    "df.info()"
   ]
  },
  {
   "cell_type": "markdown",
   "metadata": {},
   "source": [
    "No hay valores nulos"
   ]
  },
  {
   "cell_type": "code",
   "execution_count": 12,
   "metadata": {},
   "outputs": [],
   "source": [
    "#Analizo el largo de los comentarios\n",
    "\n",
    "largo=[]\n",
    "for i in df.verified_reviews:\n",
    "    largo.append(len(i))\n",
    "\n",
    "df[\"largo\"]=largo"
   ]
  },
  {
   "cell_type": "code",
   "execution_count": 13,
   "metadata": {},
   "outputs": [
    {
     "data": {
      "text/html": [
       "<div>\n",
       "<style scoped>\n",
       "    .dataframe tbody tr th:only-of-type {\n",
       "        vertical-align: middle;\n",
       "    }\n",
       "\n",
       "    .dataframe tbody tr th {\n",
       "        vertical-align: top;\n",
       "    }\n",
       "\n",
       "    .dataframe thead th {\n",
       "        text-align: right;\n",
       "    }\n",
       "</style>\n",
       "<table border=\"1\" class=\"dataframe\">\n",
       "  <thead>\n",
       "    <tr style=\"text-align: right;\">\n",
       "      <th></th>\n",
       "      <th>rating</th>\n",
       "      <th>date</th>\n",
       "      <th>variation</th>\n",
       "      <th>verified_reviews</th>\n",
       "      <th>feedback</th>\n",
       "      <th>largo</th>\n",
       "    </tr>\n",
       "  </thead>\n",
       "  <tbody>\n",
       "    <tr>\n",
       "      <td>0</td>\n",
       "      <td>5</td>\n",
       "      <td>31-Jul-18</td>\n",
       "      <td>Charcoal Fabric</td>\n",
       "      <td>Love my Echo!</td>\n",
       "      <td>1</td>\n",
       "      <td>13</td>\n",
       "    </tr>\n",
       "    <tr>\n",
       "      <td>1</td>\n",
       "      <td>5</td>\n",
       "      <td>31-Jul-18</td>\n",
       "      <td>Charcoal Fabric</td>\n",
       "      <td>Loved it!</td>\n",
       "      <td>1</td>\n",
       "      <td>9</td>\n",
       "    </tr>\n",
       "    <tr>\n",
       "      <td>2</td>\n",
       "      <td>4</td>\n",
       "      <td>31-Jul-18</td>\n",
       "      <td>Walnut Finish</td>\n",
       "      <td>\"Sometimes while playing a game, you can answe...</td>\n",
       "      <td>1</td>\n",
       "      <td>197</td>\n",
       "    </tr>\n",
       "    <tr>\n",
       "      <td>3</td>\n",
       "      <td>5</td>\n",
       "      <td>31-Jul-18</td>\n",
       "      <td>Charcoal Fabric</td>\n",
       "      <td>\"I have had a lot of fun with this thing. My 4...</td>\n",
       "      <td>1</td>\n",
       "      <td>174</td>\n",
       "    </tr>\n",
       "    <tr>\n",
       "      <td>4</td>\n",
       "      <td>5</td>\n",
       "      <td>31-Jul-18</td>\n",
       "      <td>Charcoal Fabric</td>\n",
       "      <td>Music</td>\n",
       "      <td>1</td>\n",
       "      <td>5</td>\n",
       "    </tr>\n",
       "  </tbody>\n",
       "</table>\n",
       "</div>"
      ],
      "text/plain": [
       "   rating       date         variation  \\\n",
       "0       5  31-Jul-18  Charcoal Fabric    \n",
       "1       5  31-Jul-18  Charcoal Fabric    \n",
       "2       4  31-Jul-18    Walnut Finish    \n",
       "3       5  31-Jul-18  Charcoal Fabric    \n",
       "4       5  31-Jul-18  Charcoal Fabric    \n",
       "\n",
       "                                    verified_reviews  feedback  largo  \n",
       "0                                      Love my Echo!         1     13  \n",
       "1                                          Loved it!         1      9  \n",
       "2  \"Sometimes while playing a game, you can answe...         1    197  \n",
       "3  \"I have had a lot of fun with this thing. My 4...         1    174  \n",
       "4                                              Music         1      5  "
      ]
     },
     "execution_count": 13,
     "metadata": {},
     "output_type": "execute_result"
    }
   ],
   "source": [
    "df.head()"
   ]
  },
  {
   "cell_type": "code",
   "execution_count": 14,
   "metadata": {},
   "outputs": [
    {
     "data": {
      "text/html": [
       "<div>\n",
       "<style scoped>\n",
       "    .dataframe tbody tr th:only-of-type {\n",
       "        vertical-align: middle;\n",
       "    }\n",
       "\n",
       "    .dataframe tbody tr th {\n",
       "        vertical-align: top;\n",
       "    }\n",
       "\n",
       "    .dataframe thead th {\n",
       "        text-align: right;\n",
       "    }\n",
       "</style>\n",
       "<table border=\"1\" class=\"dataframe\">\n",
       "  <thead>\n",
       "    <tr style=\"text-align: right;\">\n",
       "      <th></th>\n",
       "      <th>rating</th>\n",
       "      <th>date</th>\n",
       "      <th>variation</th>\n",
       "      <th>verified_reviews</th>\n",
       "      <th>feedback</th>\n",
       "      <th>largo</th>\n",
       "    </tr>\n",
       "  </thead>\n",
       "  <tbody>\n",
       "    <tr>\n",
       "      <td>2016</td>\n",
       "      <td>5</td>\n",
       "      <td>20-Jul-18</td>\n",
       "      <td>Black  Plus</td>\n",
       "      <td>\"Incredible piece of technology.I have this ri...</td>\n",
       "      <td>1</td>\n",
       "      <td>2853</td>\n",
       "    </tr>\n",
       "    <tr>\n",
       "      <td>1322</td>\n",
       "      <td>5</td>\n",
       "      <td>21-Jul-18</td>\n",
       "      <td>Black  Spot</td>\n",
       "      <td>\"I got this on Prime day and figured I'd see w...</td>\n",
       "      <td>1</td>\n",
       "      <td>2395</td>\n",
       "    </tr>\n",
       "    <tr>\n",
       "      <td>563</td>\n",
       "      <td>3</td>\n",
       "      <td>12-Jun-18</td>\n",
       "      <td>Black</td>\n",
       "      <td>\"I received my Echo Dot today in good conditio...</td>\n",
       "      <td>1</td>\n",
       "      <td>1956</td>\n",
       "    </tr>\n",
       "    <tr>\n",
       "      <td>1383</td>\n",
       "      <td>3</td>\n",
       "      <td>17-Jul-18</td>\n",
       "      <td>Black  Spot</td>\n",
       "      <td>\"This is 1 of 6 echo devices in the house and ...</td>\n",
       "      <td>1</td>\n",
       "      <td>1835</td>\n",
       "    </tr>\n",
       "    <tr>\n",
       "      <td>1996</td>\n",
       "      <td>2</td>\n",
       "      <td>21-Jul-18</td>\n",
       "      <td>Black  Plus</td>\n",
       "      <td>\"I have been thinking about getting this for a...</td>\n",
       "      <td>0</td>\n",
       "      <td>1688</td>\n",
       "    </tr>\n",
       "    <tr>\n",
       "      <td>...</td>\n",
       "      <td>...</td>\n",
       "      <td>...</td>\n",
       "      <td>...</td>\n",
       "      <td>...</td>\n",
       "      <td>...</td>\n",
       "      <td>...</td>\n",
       "    </tr>\n",
       "    <tr>\n",
       "      <td>2918</td>\n",
       "      <td>3</td>\n",
       "      <td>30-Jul-18</td>\n",
       "      <td>White  Dot</td>\n",
       "      <td></td>\n",
       "      <td>1</td>\n",
       "      <td>1</td>\n",
       "    </tr>\n",
       "    <tr>\n",
       "      <td>1728</td>\n",
       "      <td>5</td>\n",
       "      <td>28-Jul-18</td>\n",
       "      <td>Black  Show</td>\n",
       "      <td></td>\n",
       "      <td>1</td>\n",
       "      <td>1</td>\n",
       "    </tr>\n",
       "    <tr>\n",
       "      <td>1761</td>\n",
       "      <td>5</td>\n",
       "      <td>30-Jul-18</td>\n",
       "      <td>Black  Plus</td>\n",
       "      <td></td>\n",
       "      <td>1</td>\n",
       "      <td>1</td>\n",
       "    </tr>\n",
       "    <tr>\n",
       "      <td>1764</td>\n",
       "      <td>2</td>\n",
       "      <td>30-Jul-18</td>\n",
       "      <td>Black  Plus</td>\n",
       "      <td></td>\n",
       "      <td>0</td>\n",
       "      <td>1</td>\n",
       "    </tr>\n",
       "    <tr>\n",
       "      <td>1360</td>\n",
       "      <td>3</td>\n",
       "      <td>19-Jul-18</td>\n",
       "      <td>Black  Spot</td>\n",
       "      <td></td>\n",
       "      <td>1</td>\n",
       "      <td>1</td>\n",
       "    </tr>\n",
       "  </tbody>\n",
       "</table>\n",
       "<p>3150 rows × 6 columns</p>\n",
       "</div>"
      ],
      "text/plain": [
       "      rating       date    variation  \\\n",
       "2016       5  20-Jul-18  Black  Plus   \n",
       "1322       5  21-Jul-18  Black  Spot   \n",
       "563        3  12-Jun-18        Black   \n",
       "1383       3  17-Jul-18  Black  Spot   \n",
       "1996       2  21-Jul-18  Black  Plus   \n",
       "...      ...        ...          ...   \n",
       "2918       3  30-Jul-18   White  Dot   \n",
       "1728       5  28-Jul-18  Black  Show   \n",
       "1761       5  30-Jul-18  Black  Plus   \n",
       "1764       2  30-Jul-18  Black  Plus   \n",
       "1360       3  19-Jul-18  Black  Spot   \n",
       "\n",
       "                                       verified_reviews  feedback  largo  \n",
       "2016  \"Incredible piece of technology.I have this ri...         1   2853  \n",
       "1322  \"I got this on Prime day and figured I'd see w...         1   2395  \n",
       "563   \"I received my Echo Dot today in good conditio...         1   1956  \n",
       "1383  \"This is 1 of 6 echo devices in the house and ...         1   1835  \n",
       "1996  \"I have been thinking about getting this for a...         0   1688  \n",
       "...                                                 ...       ...    ...  \n",
       "2918                                                            1      1  \n",
       "1728                                                            1      1  \n",
       "1761                                                            1      1  \n",
       "1764                                                            0      1  \n",
       "1360                                                            1      1  \n",
       "\n",
       "[3150 rows x 6 columns]"
      ]
     },
     "execution_count": 14,
     "metadata": {},
     "output_type": "execute_result"
    }
   ],
   "source": [
    "df.sort_values(\"largo\", ascending=False)"
   ]
  },
  {
   "cell_type": "code",
   "execution_count": 15,
   "metadata": {},
   "outputs": [
    {
     "data": {
      "text/html": [
       "<div>\n",
       "<style scoped>\n",
       "    .dataframe tbody tr th:only-of-type {\n",
       "        vertical-align: middle;\n",
       "    }\n",
       "\n",
       "    .dataframe tbody tr th {\n",
       "        vertical-align: top;\n",
       "    }\n",
       "\n",
       "    .dataframe thead th {\n",
       "        text-align: right;\n",
       "    }\n",
       "</style>\n",
       "<table border=\"1\" class=\"dataframe\">\n",
       "  <thead>\n",
       "    <tr style=\"text-align: right;\">\n",
       "      <th></th>\n",
       "      <th>rating</th>\n",
       "      <th>date</th>\n",
       "      <th>variation</th>\n",
       "      <th>verified_reviews</th>\n",
       "      <th>feedback</th>\n",
       "      <th>largo</th>\n",
       "    </tr>\n",
       "  </thead>\n",
       "  <tbody>\n",
       "    <tr>\n",
       "      <td>2016</td>\n",
       "      <td>5</td>\n",
       "      <td>20-Jul-18</td>\n",
       "      <td>Black  Plus</td>\n",
       "      <td>\"Incredible piece of technology.I have this ri...</td>\n",
       "      <td>1</td>\n",
       "      <td>2853</td>\n",
       "    </tr>\n",
       "    <tr>\n",
       "      <td>1322</td>\n",
       "      <td>5</td>\n",
       "      <td>21-Jul-18</td>\n",
       "      <td>Black  Spot</td>\n",
       "      <td>\"I got this on Prime day and figured I'd see w...</td>\n",
       "      <td>1</td>\n",
       "      <td>2395</td>\n",
       "    </tr>\n",
       "    <tr>\n",
       "      <td>563</td>\n",
       "      <td>3</td>\n",
       "      <td>12-Jun-18</td>\n",
       "      <td>Black</td>\n",
       "      <td>\"I received my Echo Dot today in good conditio...</td>\n",
       "      <td>1</td>\n",
       "      <td>1956</td>\n",
       "    </tr>\n",
       "    <tr>\n",
       "      <td>1383</td>\n",
       "      <td>3</td>\n",
       "      <td>17-Jul-18</td>\n",
       "      <td>Black  Spot</td>\n",
       "      <td>\"This is 1 of 6 echo devices in the house and ...</td>\n",
       "      <td>1</td>\n",
       "      <td>1835</td>\n",
       "    </tr>\n",
       "    <tr>\n",
       "      <td>1996</td>\n",
       "      <td>2</td>\n",
       "      <td>21-Jul-18</td>\n",
       "      <td>Black  Plus</td>\n",
       "      <td>\"I have been thinking about getting this for a...</td>\n",
       "      <td>0</td>\n",
       "      <td>1688</td>\n",
       "    </tr>\n",
       "    <tr>\n",
       "      <td>2234</td>\n",
       "      <td>5</td>\n",
       "      <td>30-Jul-18</td>\n",
       "      <td>Configuration: Fire TV Stick</td>\n",
       "      <td>\"Recently cut the cord on cable television. Ne...</td>\n",
       "      <td>1</td>\n",
       "      <td>1566</td>\n",
       "    </tr>\n",
       "    <tr>\n",
       "      <td>1828</td>\n",
       "      <td>4</td>\n",
       "      <td>28-Jul-18</td>\n",
       "      <td>Black  Plus</td>\n",
       "      <td>\"I love everything about it. I love that the e...</td>\n",
       "      <td>1</td>\n",
       "      <td>1362</td>\n",
       "    </tr>\n",
       "    <tr>\n",
       "      <td>2004</td>\n",
       "      <td>4</td>\n",
       "      <td>20-Jul-18</td>\n",
       "      <td>Black  Plus</td>\n",
       "      <td>\"I got it to try side by side with the Echo or...</td>\n",
       "      <td>1</td>\n",
       "      <td>1332</td>\n",
       "    </tr>\n",
       "    <tr>\n",
       "      <td>1605</td>\n",
       "      <td>5</td>\n",
       "      <td>29-Jul-18</td>\n",
       "      <td>Black  Show</td>\n",
       "      <td>\"I haven't had my show very long or used it a ...</td>\n",
       "      <td>1</td>\n",
       "      <td>1313</td>\n",
       "    </tr>\n",
       "    <tr>\n",
       "      <td>1986</td>\n",
       "      <td>3</td>\n",
       "      <td>23-Jul-18</td>\n",
       "      <td>Black  Plus</td>\n",
       "      <td>\"We are a long time Amazon Prime family, many ...</td>\n",
       "      <td>1</td>\n",
       "      <td>1311</td>\n",
       "    </tr>\n",
       "    <tr>\n",
       "      <td>1982</td>\n",
       "      <td>5</td>\n",
       "      <td>23-Jul-18</td>\n",
       "      <td>White  Plus</td>\n",
       "      <td>\"Works great I bought this Direct from amazon,...</td>\n",
       "      <td>1</td>\n",
       "      <td>1298</td>\n",
       "    </tr>\n",
       "    <tr>\n",
       "      <td>1380</td>\n",
       "      <td>4</td>\n",
       "      <td>17-Jul-18</td>\n",
       "      <td>White  Spot</td>\n",
       "      <td>\"Much easier to use than the dot. It picks up ...</td>\n",
       "      <td>1</td>\n",
       "      <td>1144</td>\n",
       "    </tr>\n",
       "    <tr>\n",
       "      <td>1846</td>\n",
       "      <td>5</td>\n",
       "      <td>28-Jul-18</td>\n",
       "      <td>Black  Plus</td>\n",
       "      <td>\"I purchased the Echo Plus with the Build-in H...</td>\n",
       "      <td>1</td>\n",
       "      <td>1128</td>\n",
       "    </tr>\n",
       "    <tr>\n",
       "      <td>2021</td>\n",
       "      <td>1</td>\n",
       "      <td>19-Jul-18</td>\n",
       "      <td>Black  Plus</td>\n",
       "      <td>\"I would like to tell you that I have a reason...</td>\n",
       "      <td>0</td>\n",
       "      <td>1126</td>\n",
       "    </tr>\n",
       "    <tr>\n",
       "      <td>1289</td>\n",
       "      <td>2</td>\n",
       "      <td>23-Jul-18</td>\n",
       "      <td>White  Spot</td>\n",
       "      <td>\"All is fine with the Spot exact for one massi...</td>\n",
       "      <td>0</td>\n",
       "      <td>1041</td>\n",
       "    </tr>\n",
       "    <tr>\n",
       "      <td>1816</td>\n",
       "      <td>5</td>\n",
       "      <td>29-Jul-18</td>\n",
       "      <td>White  Plus</td>\n",
       "      <td>\"I purchased the Amazon Echo Plus on Amazon pr...</td>\n",
       "      <td>1</td>\n",
       "      <td>999</td>\n",
       "    </tr>\n",
       "    <tr>\n",
       "      <td>1440</td>\n",
       "      <td>4</td>\n",
       "      <td>30-Jul-18</td>\n",
       "      <td>White  Show</td>\n",
       "      <td>\"Love the product idea. Super easy to set up &amp;...</td>\n",
       "      <td>1</td>\n",
       "      <td>980</td>\n",
       "    </tr>\n",
       "    <tr>\n",
       "      <td>1561</td>\n",
       "      <td>5</td>\n",
       "      <td>30-Jul-18</td>\n",
       "      <td>Black  Show</td>\n",
       "      <td>\"So far I’m very pleased with my Echo Show.  T...</td>\n",
       "      <td>1</td>\n",
       "      <td>978</td>\n",
       "    </tr>\n",
       "    <tr>\n",
       "      <td>254</td>\n",
       "      <td>4</td>\n",
       "      <td>29-Jul-18</td>\n",
       "      <td>Charcoal Fabric</td>\n",
       "      <td>\"The Echo is an amazing device.  Many times it...</td>\n",
       "      <td>1</td>\n",
       "      <td>962</td>\n",
       "    </tr>\n",
       "    <tr>\n",
       "      <td>949</td>\n",
       "      <td>4</td>\n",
       "      <td>29-Jul-18</td>\n",
       "      <td>Charcoal Fabric</td>\n",
       "      <td>\"The Echo is an amazing device.  Many times it...</td>\n",
       "      <td>1</td>\n",
       "      <td>962</td>\n",
       "    </tr>\n",
       "  </tbody>\n",
       "</table>\n",
       "</div>"
      ],
      "text/plain": [
       "      rating       date                     variation  \\\n",
       "2016       5  20-Jul-18                   Black  Plus   \n",
       "1322       5  21-Jul-18                   Black  Spot   \n",
       "563        3  12-Jun-18                         Black   \n",
       "1383       3  17-Jul-18                   Black  Spot   \n",
       "1996       2  21-Jul-18                   Black  Plus   \n",
       "2234       5  30-Jul-18  Configuration: Fire TV Stick   \n",
       "1828       4  28-Jul-18                   Black  Plus   \n",
       "2004       4  20-Jul-18                   Black  Plus   \n",
       "1605       5  29-Jul-18                   Black  Show   \n",
       "1986       3  23-Jul-18                   Black  Plus   \n",
       "1982       5  23-Jul-18                   White  Plus   \n",
       "1380       4  17-Jul-18                   White  Spot   \n",
       "1846       5  28-Jul-18                   Black  Plus   \n",
       "2021       1  19-Jul-18                   Black  Plus   \n",
       "1289       2  23-Jul-18                   White  Spot   \n",
       "1816       5  29-Jul-18                   White  Plus   \n",
       "1440       4  30-Jul-18                   White  Show   \n",
       "1561       5  30-Jul-18                   Black  Show   \n",
       "254        4  29-Jul-18              Charcoal Fabric    \n",
       "949        4  29-Jul-18              Charcoal Fabric    \n",
       "\n",
       "                                       verified_reviews  feedback  largo  \n",
       "2016  \"Incredible piece of technology.I have this ri...         1   2853  \n",
       "1322  \"I got this on Prime day and figured I'd see w...         1   2395  \n",
       "563   \"I received my Echo Dot today in good conditio...         1   1956  \n",
       "1383  \"This is 1 of 6 echo devices in the house and ...         1   1835  \n",
       "1996  \"I have been thinking about getting this for a...         0   1688  \n",
       "2234  \"Recently cut the cord on cable television. Ne...         1   1566  \n",
       "1828  \"I love everything about it. I love that the e...         1   1362  \n",
       "2004  \"I got it to try side by side with the Echo or...         1   1332  \n",
       "1605  \"I haven't had my show very long or used it a ...         1   1313  \n",
       "1986  \"We are a long time Amazon Prime family, many ...         1   1311  \n",
       "1982  \"Works great I bought this Direct from amazon,...         1   1298  \n",
       "1380  \"Much easier to use than the dot. It picks up ...         1   1144  \n",
       "1846  \"I purchased the Echo Plus with the Build-in H...         1   1128  \n",
       "2021  \"I would like to tell you that I have a reason...         0   1126  \n",
       "1289  \"All is fine with the Spot exact for one massi...         0   1041  \n",
       "1816  \"I purchased the Amazon Echo Plus on Amazon pr...         1    999  \n",
       "1440  \"Love the product idea. Super easy to set up &...         1    980  \n",
       "1561  \"So far I’m very pleased with my Echo Show.  T...         1    978  \n",
       "254   \"The Echo is an amazing device.  Many times it...         1    962  \n",
       "949   \"The Echo is an amazing device.  Many times it...         1    962  "
      ]
     },
     "execution_count": 15,
     "metadata": {},
     "output_type": "execute_result"
    }
   ],
   "source": [
    "df.sort_values(\"largo\", ascending=False).head(20)"
   ]
  },
  {
   "cell_type": "markdown",
   "metadata": {},
   "source": [
    "Se ve que los comentarios más largos corresponden principalmente a comentarios positivos"
   ]
  },
  {
   "cell_type": "code",
   "execution_count": 16,
   "metadata": {},
   "outputs": [
    {
     "data": {
      "text/plain": [
       "array([  13,    9,  197,  174,    5,  367,  221,   11,  116,   65,  169,\n",
       "        292,   20,   24,   27,   67,  216,   86,  453,  246,  387,   58,\n",
       "        181,   15,  154,   25,  135,   23,   74,  185,  308,  310,  150,\n",
       "         42,   80,  485,   95,  170,   14,   84,  138,  165,   18,  208,\n",
       "         48,  120,  108,   78,   73,   31,   39,    1,  100,   41,  187,\n",
       "         26,   37,  168,   66,   54,   10,   12,  708,   52,   29,  243,\n",
       "         43,  111,   32,  129,  155,   30,   21,  592,   55,   60,  270,\n",
       "          8,   68,  218,   94,  275,   62,  163,  315,   59,   38,   53,\n",
       "        273,  127,  149,  331,   77,   36,   51,   46,  232,   83,   61,\n",
       "         75,  173,  361,  306,    7,  591,    4,  211,  213,  109,   96,\n",
       "        286,   79,  256,  524,  880,  106,   89,  409,   50,  175,   45,\n",
       "        128,  121,   17,   90,  238,  469,  340,  568,   19,  667,   69,\n",
       "        114,   16,  247,  123,  441,   99,   56,  283,   33,   35,  122,\n",
       "         22,  605,  464,  309,  131,  276,  157,  136,  126,  370,  176,\n",
       "        192,  962,   28,  385,  958,   44,  189,  258,  431,  390,  338,\n",
       "        171,  103,  124,  166,   49,  161,  394,  151,  186,  144,   81,\n",
       "        167,  284,  193,  142,  133,  104,  335,   47,   63,   87,   40,\n",
       "         71,  148,  145,   64,  143,  252,  255,  313,   85,  159,  130,\n",
       "        102,  119,  274,  207,   91,  345,   57,  199,    6,  620,  215,\n",
       "        404,  141,  110,  200,   76,  112,  632,  356,  433,  584,  125,\n",
       "        139,   70,  527,  360,  488,  179,  298,  242,   72,  210,  288,\n",
       "        287,  158,  190,  401,   34,  237,  184,  377, 1956,  134,  686,\n",
       "        320,  267,  115,  172,  478,  835,  147,  304,  555,  378,  271,\n",
       "        397,  400,  328,  177,  416,  220,  227,  583,  107,  204,  317,\n",
       "        152,  417,  646,  775,  229,   88,  514,  319,  251,  752,  302,\n",
       "        231,  281,  228,  495,  262,  212,  418,  905,  606,  454,   98,\n",
       "        498,  156,  448,  250,  539,  398,   92,  440,  476,  301,  318,\n",
       "        426,  219,  205,  269,  300,  239,  118,  241,  146,  234,  245,\n",
       "        430,  389,    3,  777,  439,  272,  384,  422,  353,  333,  729,\n",
       "        180,  435,  117,  160,  206,  391,  297,  253,  624,  217,  202,\n",
       "       1041,  194,  369,  825,  203,  307, 2395,  951,  278,  678,  195,\n",
       "        188,  525,  486,  330,  324,  521,  399,  562,  359,  577, 1144,\n",
       "        321, 1835,  596,  346,  684,  327,  137,  461,  101,  289,  537,\n",
       "        442,  214,  209,  164,  980,  772,  226,  668,  414,  466,  105,\n",
       "        198,  191,  582,  395,  244,   93,   97,  323,  293,  863,  153,\n",
       "        225,  261,  260,  545,  978,  670,  334,  290,  503,  364,  132,\n",
       "        285,  594, 1313,  593,  240,  938,  140,  257,  374,  182,  407,\n",
       "        303,    2,  336,  265,  113,  829,   82,  622,  162,  720,  282,\n",
       "        295,  725,  791,  425,  688,  903,  999, 1362, 1128,  352,  291,\n",
       "        223,  354,  322,  299,  797,  595,  444,  614,  473,  884,  663,\n",
       "       1298,  462, 1311,  259,  691, 1688,  475, 1332,  511,  597,  519,\n",
       "        456,  716, 2853, 1126,  381,  692,  316,  722,  534,  721,  380,\n",
       "        540,  413,  201,  523,  626, 1566,  329,  248,  266,  183,  279,\n",
       "        196,  235,  467,  366,  698,  572,  654,  483,  676,  742,  559,\n",
       "        371,  325,  675,  393,  551,  634,  363,  254,  403,  443,  382],\n",
       "      dtype=int64)"
      ]
     },
     "execution_count": 16,
     "metadata": {},
     "output_type": "execute_result"
    }
   ],
   "source": [
    "df.largo.unique()"
   ]
  },
  {
   "cell_type": "code",
   "execution_count": 17,
   "metadata": {},
   "outputs": [],
   "source": [
    "#Elimino las filas de reviews con menos de 5 caracteres.\n",
    "df=df[df.largo>5]"
   ]
  },
  {
   "cell_type": "code",
   "execution_count": 18,
   "metadata": {},
   "outputs": [
    {
     "data": {
      "text/html": [
       "<div>\n",
       "<style scoped>\n",
       "    .dataframe tbody tr th:only-of-type {\n",
       "        vertical-align: middle;\n",
       "    }\n",
       "\n",
       "    .dataframe tbody tr th {\n",
       "        vertical-align: top;\n",
       "    }\n",
       "\n",
       "    .dataframe thead th {\n",
       "        text-align: right;\n",
       "    }\n",
       "</style>\n",
       "<table border=\"1\" class=\"dataframe\">\n",
       "  <thead>\n",
       "    <tr style=\"text-align: right;\">\n",
       "      <th></th>\n",
       "      <th>rating</th>\n",
       "      <th>date</th>\n",
       "      <th>variation</th>\n",
       "      <th>verified_reviews</th>\n",
       "      <th>feedback</th>\n",
       "      <th>largo</th>\n",
       "    </tr>\n",
       "  </thead>\n",
       "  <tbody>\n",
       "    <tr>\n",
       "      <td>0</td>\n",
       "      <td>5</td>\n",
       "      <td>31-Jul-18</td>\n",
       "      <td>Charcoal Fabric</td>\n",
       "      <td>Love my Echo!</td>\n",
       "      <td>1</td>\n",
       "      <td>13</td>\n",
       "    </tr>\n",
       "    <tr>\n",
       "      <td>1</td>\n",
       "      <td>5</td>\n",
       "      <td>31-Jul-18</td>\n",
       "      <td>Charcoal Fabric</td>\n",
       "      <td>Loved it!</td>\n",
       "      <td>1</td>\n",
       "      <td>9</td>\n",
       "    </tr>\n",
       "    <tr>\n",
       "      <td>2</td>\n",
       "      <td>4</td>\n",
       "      <td>31-Jul-18</td>\n",
       "      <td>Walnut Finish</td>\n",
       "      <td>\"Sometimes while playing a game, you can answe...</td>\n",
       "      <td>1</td>\n",
       "      <td>197</td>\n",
       "    </tr>\n",
       "    <tr>\n",
       "      <td>3</td>\n",
       "      <td>5</td>\n",
       "      <td>31-Jul-18</td>\n",
       "      <td>Charcoal Fabric</td>\n",
       "      <td>\"I have had a lot of fun with this thing. My 4...</td>\n",
       "      <td>1</td>\n",
       "      <td>174</td>\n",
       "    </tr>\n",
       "    <tr>\n",
       "      <td>5</td>\n",
       "      <td>5</td>\n",
       "      <td>31-Jul-18</td>\n",
       "      <td>Heather Gray Fabric</td>\n",
       "      <td>\"I received the echo as a gift. I needed anoth...</td>\n",
       "      <td>1</td>\n",
       "      <td>174</td>\n",
       "    </tr>\n",
       "    <tr>\n",
       "      <td>...</td>\n",
       "      <td>...</td>\n",
       "      <td>...</td>\n",
       "      <td>...</td>\n",
       "      <td>...</td>\n",
       "      <td>...</td>\n",
       "      <td>...</td>\n",
       "    </tr>\n",
       "    <tr>\n",
       "      <td>3144</td>\n",
       "      <td>5</td>\n",
       "      <td>30-Jul-18</td>\n",
       "      <td>Black  Dot</td>\n",
       "      <td>love it</td>\n",
       "      <td>1</td>\n",
       "      <td>7</td>\n",
       "    </tr>\n",
       "    <tr>\n",
       "      <td>3145</td>\n",
       "      <td>5</td>\n",
       "      <td>30-Jul-18</td>\n",
       "      <td>Black  Dot</td>\n",
       "      <td>\"Perfect for kids, adults and everyone in betw...</td>\n",
       "      <td>1</td>\n",
       "      <td>52</td>\n",
       "    </tr>\n",
       "    <tr>\n",
       "      <td>3146</td>\n",
       "      <td>5</td>\n",
       "      <td>30-Jul-18</td>\n",
       "      <td>Black  Dot</td>\n",
       "      <td>\"Listening to music, searching locations, chec...</td>\n",
       "      <td>1</td>\n",
       "      <td>137</td>\n",
       "    </tr>\n",
       "    <tr>\n",
       "      <td>3147</td>\n",
       "      <td>5</td>\n",
       "      <td>30-Jul-18</td>\n",
       "      <td>Black  Dot</td>\n",
       "      <td>\"I do love these things, i have them running m...</td>\n",
       "      <td>1</td>\n",
       "      <td>443</td>\n",
       "    </tr>\n",
       "    <tr>\n",
       "      <td>3148</td>\n",
       "      <td>5</td>\n",
       "      <td>30-Jul-18</td>\n",
       "      <td>White  Dot</td>\n",
       "      <td>\"Only complaint I have is that the sound quali...</td>\n",
       "      <td>1</td>\n",
       "      <td>382</td>\n",
       "    </tr>\n",
       "  </tbody>\n",
       "</table>\n",
       "<p>3030 rows × 6 columns</p>\n",
       "</div>"
      ],
      "text/plain": [
       "      rating       date             variation  \\\n",
       "0          5  31-Jul-18      Charcoal Fabric    \n",
       "1          5  31-Jul-18      Charcoal Fabric    \n",
       "2          4  31-Jul-18        Walnut Finish    \n",
       "3          5  31-Jul-18      Charcoal Fabric    \n",
       "5          5  31-Jul-18  Heather Gray Fabric    \n",
       "...      ...        ...                   ...   \n",
       "3144       5  30-Jul-18            Black  Dot   \n",
       "3145       5  30-Jul-18            Black  Dot   \n",
       "3146       5  30-Jul-18            Black  Dot   \n",
       "3147       5  30-Jul-18            Black  Dot   \n",
       "3148       5  30-Jul-18            White  Dot   \n",
       "\n",
       "                                       verified_reviews  feedback  largo  \n",
       "0                                         Love my Echo!         1     13  \n",
       "1                                             Loved it!         1      9  \n",
       "2     \"Sometimes while playing a game, you can answe...         1    197  \n",
       "3     \"I have had a lot of fun with this thing. My 4...         1    174  \n",
       "5     \"I received the echo as a gift. I needed anoth...         1    174  \n",
       "...                                                 ...       ...    ...  \n",
       "3144                                            love it         1      7  \n",
       "3145  \"Perfect for kids, adults and everyone in betw...         1     52  \n",
       "3146  \"Listening to music, searching locations, chec...         1    137  \n",
       "3147  \"I do love these things, i have them running m...         1    443  \n",
       "3148  \"Only complaint I have is that the sound quali...         1    382  \n",
       "\n",
       "[3030 rows x 6 columns]"
      ]
     },
     "execution_count": 18,
     "metadata": {},
     "output_type": "execute_result"
    }
   ],
   "source": [
    "df"
   ]
  },
  {
   "cell_type": "markdown",
   "metadata": {},
   "source": [
    "## Preprocesamiento"
   ]
  },
  {
   "cell_type": "code",
   "execution_count": 19,
   "metadata": {},
   "outputs": [],
   "source": [
    "import re\n",
    "import nltk\n",
    "import string\n",
    "from nltk.corpus import stopwords\n",
    "from nltk.stem import WordNetLemmatizer\n",
    "from nltk.corpus import wordnet\n",
    "\n",
    "#Función POS\n",
    "def get_wordnet_pos(word):\n",
    "    \"\"\"Map POS tag to first character lemmatize() accepts\"\"\"\n",
    "    tag = nltk.pos_tag([word])[0][1][0].upper()\n",
    "    tag_dict = {\"J\": wordnet.ADJ,\n",
    "                \"N\": wordnet.NOUN,\n",
    "                \"V\": wordnet.VERB,\n",
    "                \"R\": wordnet.ADV}\n",
    "\n",
    "    return tag_dict.get(tag, wordnet.NOUN)\n"
   ]
  },
  {
   "cell_type": "code",
   "execution_count": 20,
   "metadata": {},
   "outputs": [],
   "source": [
    "#Stopwords\n",
    "stopwords = nltk.corpus.stopwords.words('english')"
   ]
  },
  {
   "cell_type": "code",
   "execution_count": 21,
   "metadata": {},
   "outputs": [],
   "source": [
    "#Normalizo los datos\n",
    "\n",
    "reviews_list=[]\n",
    "for review in df.verified_reviews:\n",
    "    # Reemplazo los caracteres que no sean letras por espacios\n",
    "    review=re.sub(\"[^a-zA-Z]\",\" \",str(review))\n",
    "    \n",
    "    # Paso todo a minúsculas\n",
    "    review=review.lower()\n",
    "    \n",
    "    # Tokenizo para separar las palabras\n",
    "    review=nltk.word_tokenize(review)\n",
    "    \n",
    "    # Saco las Stopwords\n",
    "    review = [palabra for palabra in review if not palabra in stopwords]\n",
    "       \n",
    "    # Aplico el Lemmatizer\n",
    "    wordnet_lemmatizer=WordNetLemmatizer()\n",
    "    review = [wordnet_lemmatizer.lemmatize(w, get_wordnet_pos(w)) for w in review]\n",
    "    \n",
    "    # Por ultimo vuelvo a unir el review\n",
    "    review=\" \".join(review)\n",
    "    reviews_list.append(review)"
   ]
  },
  {
   "cell_type": "code",
   "execution_count": 22,
   "metadata": {},
   "outputs": [
    {
     "data": {
      "text/html": [
       "<div>\n",
       "<style scoped>\n",
       "    .dataframe tbody tr th:only-of-type {\n",
       "        vertical-align: middle;\n",
       "    }\n",
       "\n",
       "    .dataframe tbody tr th {\n",
       "        vertical-align: top;\n",
       "    }\n",
       "\n",
       "    .dataframe thead th {\n",
       "        text-align: right;\n",
       "    }\n",
       "</style>\n",
       "<table border=\"1\" class=\"dataframe\">\n",
       "  <thead>\n",
       "    <tr style=\"text-align: right;\">\n",
       "      <th></th>\n",
       "      <th>rating</th>\n",
       "      <th>date</th>\n",
       "      <th>variation</th>\n",
       "      <th>verified_reviews</th>\n",
       "      <th>feedback</th>\n",
       "      <th>largo</th>\n",
       "      <th>reviews_normalizadas</th>\n",
       "    </tr>\n",
       "  </thead>\n",
       "  <tbody>\n",
       "    <tr>\n",
       "      <td>0</td>\n",
       "      <td>5</td>\n",
       "      <td>31-Jul-18</td>\n",
       "      <td>Charcoal Fabric</td>\n",
       "      <td>Love my Echo!</td>\n",
       "      <td>1</td>\n",
       "      <td>13</td>\n",
       "      <td>love echo</td>\n",
       "    </tr>\n",
       "    <tr>\n",
       "      <td>1</td>\n",
       "      <td>5</td>\n",
       "      <td>31-Jul-18</td>\n",
       "      <td>Charcoal Fabric</td>\n",
       "      <td>Loved it!</td>\n",
       "      <td>1</td>\n",
       "      <td>9</td>\n",
       "      <td>love</td>\n",
       "    </tr>\n",
       "    <tr>\n",
       "      <td>2</td>\n",
       "      <td>4</td>\n",
       "      <td>31-Jul-18</td>\n",
       "      <td>Walnut Finish</td>\n",
       "      <td>\"Sometimes while playing a game, you can answe...</td>\n",
       "      <td>1</td>\n",
       "      <td>197</td>\n",
       "      <td>sometimes play game answer question correctly ...</td>\n",
       "    </tr>\n",
       "    <tr>\n",
       "      <td>3</td>\n",
       "      <td>5</td>\n",
       "      <td>31-Jul-18</td>\n",
       "      <td>Charcoal Fabric</td>\n",
       "      <td>\"I have had a lot of fun with this thing. My 4...</td>\n",
       "      <td>1</td>\n",
       "      <td>174</td>\n",
       "      <td>lot fun thing yr old learns dinosaur control l...</td>\n",
       "    </tr>\n",
       "    <tr>\n",
       "      <td>5</td>\n",
       "      <td>5</td>\n",
       "      <td>31-Jul-18</td>\n",
       "      <td>Heather Gray Fabric</td>\n",
       "      <td>\"I received the echo as a gift. I needed anoth...</td>\n",
       "      <td>1</td>\n",
       "      <td>174</td>\n",
       "      <td>receive echo gift need another bluetooth somet...</td>\n",
       "    </tr>\n",
       "    <tr>\n",
       "      <td>...</td>\n",
       "      <td>...</td>\n",
       "      <td>...</td>\n",
       "      <td>...</td>\n",
       "      <td>...</td>\n",
       "      <td>...</td>\n",
       "      <td>...</td>\n",
       "      <td>...</td>\n",
       "    </tr>\n",
       "    <tr>\n",
       "      <td>3144</td>\n",
       "      <td>5</td>\n",
       "      <td>30-Jul-18</td>\n",
       "      <td>Black  Dot</td>\n",
       "      <td>love it</td>\n",
       "      <td>1</td>\n",
       "      <td>7</td>\n",
       "      <td>love</td>\n",
       "    </tr>\n",
       "    <tr>\n",
       "      <td>3145</td>\n",
       "      <td>5</td>\n",
       "      <td>30-Jul-18</td>\n",
       "      <td>Black  Dot</td>\n",
       "      <td>\"Perfect for kids, adults and everyone in betw...</td>\n",
       "      <td>1</td>\n",
       "      <td>52</td>\n",
       "      <td>perfect kid adult everyone</td>\n",
       "    </tr>\n",
       "    <tr>\n",
       "      <td>3146</td>\n",
       "      <td>5</td>\n",
       "      <td>30-Jul-18</td>\n",
       "      <td>Black  Dot</td>\n",
       "      <td>\"Listening to music, searching locations, chec...</td>\n",
       "      <td>1</td>\n",
       "      <td>137</td>\n",
       "      <td>listen music search location check time look w...</td>\n",
       "    </tr>\n",
       "    <tr>\n",
       "      <td>3147</td>\n",
       "      <td>5</td>\n",
       "      <td>30-Jul-18</td>\n",
       "      <td>Black  Dot</td>\n",
       "      <td>\"I do love these things, i have them running m...</td>\n",
       "      <td>1</td>\n",
       "      <td>443</td>\n",
       "      <td>love thing run entire home tv light thermostat...</td>\n",
       "    </tr>\n",
       "    <tr>\n",
       "      <td>3148</td>\n",
       "      <td>5</td>\n",
       "      <td>30-Jul-18</td>\n",
       "      <td>White  Dot</td>\n",
       "      <td>\"Only complaint I have is that the sound quali...</td>\n",
       "      <td>1</td>\n",
       "      <td>382</td>\n",
       "      <td>complaint sound quality great mostly use comma...</td>\n",
       "    </tr>\n",
       "  </tbody>\n",
       "</table>\n",
       "<p>3030 rows × 7 columns</p>\n",
       "</div>"
      ],
      "text/plain": [
       "      rating       date             variation  \\\n",
       "0          5  31-Jul-18      Charcoal Fabric    \n",
       "1          5  31-Jul-18      Charcoal Fabric    \n",
       "2          4  31-Jul-18        Walnut Finish    \n",
       "3          5  31-Jul-18      Charcoal Fabric    \n",
       "5          5  31-Jul-18  Heather Gray Fabric    \n",
       "...      ...        ...                   ...   \n",
       "3144       5  30-Jul-18            Black  Dot   \n",
       "3145       5  30-Jul-18            Black  Dot   \n",
       "3146       5  30-Jul-18            Black  Dot   \n",
       "3147       5  30-Jul-18            Black  Dot   \n",
       "3148       5  30-Jul-18            White  Dot   \n",
       "\n",
       "                                       verified_reviews  feedback  largo  \\\n",
       "0                                         Love my Echo!         1     13   \n",
       "1                                             Loved it!         1      9   \n",
       "2     \"Sometimes while playing a game, you can answe...         1    197   \n",
       "3     \"I have had a lot of fun with this thing. My 4...         1    174   \n",
       "5     \"I received the echo as a gift. I needed anoth...         1    174   \n",
       "...                                                 ...       ...    ...   \n",
       "3144                                            love it         1      7   \n",
       "3145  \"Perfect for kids, adults and everyone in betw...         1     52   \n",
       "3146  \"Listening to music, searching locations, chec...         1    137   \n",
       "3147  \"I do love these things, i have them running m...         1    443   \n",
       "3148  \"Only complaint I have is that the sound quali...         1    382   \n",
       "\n",
       "                                   reviews_normalizadas  \n",
       "0                                             love echo  \n",
       "1                                                  love  \n",
       "2     sometimes play game answer question correctly ...  \n",
       "3     lot fun thing yr old learns dinosaur control l...  \n",
       "5     receive echo gift need another bluetooth somet...  \n",
       "...                                                 ...  \n",
       "3144                                               love  \n",
       "3145                         perfect kid adult everyone  \n",
       "3146  listen music search location check time look w...  \n",
       "3147  love thing run entire home tv light thermostat...  \n",
       "3148  complaint sound quality great mostly use comma...  \n",
       "\n",
       "[3030 rows x 7 columns]"
      ]
     },
     "execution_count": 22,
     "metadata": {},
     "output_type": "execute_result"
    }
   ],
   "source": [
    "#Genero una columa con los comentarios tokenizados y lemmatizados\n",
    "df[\"reviews_normalizadas\"]= reviews_list\n",
    "df.dropna(axis=0, inplace=True)\n",
    "\n",
    "df"
   ]
  },
  {
   "cell_type": "code",
   "execution_count": 23,
   "metadata": {},
   "outputs": [],
   "source": [
    "# Me quedo con las columnas que me interesan\n",
    "df_final=df.drop(labels=[\"date\",\"variation\",\"verified_reviews\",\"largo\"],axis=1)\n",
    "df_final.to_csv(\"amazon_alexa_final.csv\")"
   ]
  },
  {
   "cell_type": "code",
   "execution_count": 24,
   "metadata": {},
   "outputs": [
    {
     "data": {
      "text/html": [
       "<div>\n",
       "<style scoped>\n",
       "    .dataframe tbody tr th:only-of-type {\n",
       "        vertical-align: middle;\n",
       "    }\n",
       "\n",
       "    .dataframe tbody tr th {\n",
       "        vertical-align: top;\n",
       "    }\n",
       "\n",
       "    .dataframe thead th {\n",
       "        text-align: right;\n",
       "    }\n",
       "</style>\n",
       "<table border=\"1\" class=\"dataframe\">\n",
       "  <thead>\n",
       "    <tr style=\"text-align: right;\">\n",
       "      <th></th>\n",
       "      <th>Unnamed: 0</th>\n",
       "      <th>rating</th>\n",
       "      <th>feedback</th>\n",
       "      <th>reviews_normalizadas</th>\n",
       "    </tr>\n",
       "  </thead>\n",
       "  <tbody>\n",
       "    <tr>\n",
       "      <td>0</td>\n",
       "      <td>0</td>\n",
       "      <td>5</td>\n",
       "      <td>1</td>\n",
       "      <td>love echo</td>\n",
       "    </tr>\n",
       "    <tr>\n",
       "      <td>1</td>\n",
       "      <td>1</td>\n",
       "      <td>5</td>\n",
       "      <td>1</td>\n",
       "      <td>love</td>\n",
       "    </tr>\n",
       "    <tr>\n",
       "      <td>2</td>\n",
       "      <td>2</td>\n",
       "      <td>4</td>\n",
       "      <td>1</td>\n",
       "      <td>sometimes play game answer question correctly ...</td>\n",
       "    </tr>\n",
       "    <tr>\n",
       "      <td>3</td>\n",
       "      <td>3</td>\n",
       "      <td>5</td>\n",
       "      <td>1</td>\n",
       "      <td>lot fun thing yr old learns dinosaur control l...</td>\n",
       "    </tr>\n",
       "    <tr>\n",
       "      <td>4</td>\n",
       "      <td>5</td>\n",
       "      <td>5</td>\n",
       "      <td>1</td>\n",
       "      <td>receive echo gift need another bluetooth somet...</td>\n",
       "    </tr>\n",
       "  </tbody>\n",
       "</table>\n",
       "</div>"
      ],
      "text/plain": [
       "   Unnamed: 0  rating  feedback  \\\n",
       "0           0       5         1   \n",
       "1           1       5         1   \n",
       "2           2       4         1   \n",
       "3           3       5         1   \n",
       "4           5       5         1   \n",
       "\n",
       "                                reviews_normalizadas  \n",
       "0                                          love echo  \n",
       "1                                               love  \n",
       "2  sometimes play game answer question correctly ...  \n",
       "3  lot fun thing yr old learns dinosaur control l...  \n",
       "4  receive echo gift need another bluetooth somet...  "
      ]
     },
     "execution_count": 24,
     "metadata": {},
     "output_type": "execute_result"
    }
   ],
   "source": [
    "df_final=pd.read_csv(\"amazon_alexa_final.csv\")\n",
    "df_final.head()"
   ]
  },
  {
   "cell_type": "code",
   "execution_count": 25,
   "metadata": {},
   "outputs": [],
   "source": [
    "df_final.drop(labels=\"Unnamed: 0\", axis=1, inplace=True)"
   ]
  },
  {
   "cell_type": "code",
   "execution_count": 26,
   "metadata": {},
   "outputs": [
    {
     "data": {
      "text/html": [
       "<div>\n",
       "<style scoped>\n",
       "    .dataframe tbody tr th:only-of-type {\n",
       "        vertical-align: middle;\n",
       "    }\n",
       "\n",
       "    .dataframe tbody tr th {\n",
       "        vertical-align: top;\n",
       "    }\n",
       "\n",
       "    .dataframe thead th {\n",
       "        text-align: right;\n",
       "    }\n",
       "</style>\n",
       "<table border=\"1\" class=\"dataframe\">\n",
       "  <thead>\n",
       "    <tr style=\"text-align: right;\">\n",
       "      <th></th>\n",
       "      <th>rating</th>\n",
       "      <th>feedback</th>\n",
       "      <th>reviews_normalizadas</th>\n",
       "    </tr>\n",
       "  </thead>\n",
       "  <tbody>\n",
       "    <tr>\n",
       "      <td>0</td>\n",
       "      <td>5</td>\n",
       "      <td>1</td>\n",
       "      <td>love echo</td>\n",
       "    </tr>\n",
       "    <tr>\n",
       "      <td>1</td>\n",
       "      <td>5</td>\n",
       "      <td>1</td>\n",
       "      <td>love</td>\n",
       "    </tr>\n",
       "    <tr>\n",
       "      <td>2</td>\n",
       "      <td>4</td>\n",
       "      <td>1</td>\n",
       "      <td>sometimes play game answer question correctly ...</td>\n",
       "    </tr>\n",
       "    <tr>\n",
       "      <td>3</td>\n",
       "      <td>5</td>\n",
       "      <td>1</td>\n",
       "      <td>lot fun thing yr old learns dinosaur control l...</td>\n",
       "    </tr>\n",
       "    <tr>\n",
       "      <td>4</td>\n",
       "      <td>5</td>\n",
       "      <td>1</td>\n",
       "      <td>receive echo gift need another bluetooth somet...</td>\n",
       "    </tr>\n",
       "    <tr>\n",
       "      <td>...</td>\n",
       "      <td>...</td>\n",
       "      <td>...</td>\n",
       "      <td>...</td>\n",
       "    </tr>\n",
       "    <tr>\n",
       "      <td>3025</td>\n",
       "      <td>5</td>\n",
       "      <td>1</td>\n",
       "      <td>love</td>\n",
       "    </tr>\n",
       "    <tr>\n",
       "      <td>3026</td>\n",
       "      <td>5</td>\n",
       "      <td>1</td>\n",
       "      <td>perfect kid adult everyone</td>\n",
       "    </tr>\n",
       "    <tr>\n",
       "      <td>3027</td>\n",
       "      <td>5</td>\n",
       "      <td>1</td>\n",
       "      <td>listen music search location check time look w...</td>\n",
       "    </tr>\n",
       "    <tr>\n",
       "      <td>3028</td>\n",
       "      <td>5</td>\n",
       "      <td>1</td>\n",
       "      <td>love thing run entire home tv light thermostat...</td>\n",
       "    </tr>\n",
       "    <tr>\n",
       "      <td>3029</td>\n",
       "      <td>5</td>\n",
       "      <td>1</td>\n",
       "      <td>complaint sound quality great mostly use comma...</td>\n",
       "    </tr>\n",
       "  </tbody>\n",
       "</table>\n",
       "<p>3030 rows × 3 columns</p>\n",
       "</div>"
      ],
      "text/plain": [
       "      rating  feedback                               reviews_normalizadas\n",
       "0          5         1                                          love echo\n",
       "1          5         1                                               love\n",
       "2          4         1  sometimes play game answer question correctly ...\n",
       "3          5         1  lot fun thing yr old learns dinosaur control l...\n",
       "4          5         1  receive echo gift need another bluetooth somet...\n",
       "...      ...       ...                                                ...\n",
       "3025       5         1                                               love\n",
       "3026       5         1                         perfect kid adult everyone\n",
       "3027       5         1  listen music search location check time look w...\n",
       "3028       5         1  love thing run entire home tv light thermostat...\n",
       "3029       5         1  complaint sound quality great mostly use comma...\n",
       "\n",
       "[3030 rows x 3 columns]"
      ]
     },
     "execution_count": 26,
     "metadata": {},
     "output_type": "execute_result"
    }
   ],
   "source": [
    "df_final"
   ]
  },
  {
   "cell_type": "code",
   "execution_count": 27,
   "metadata": {},
   "outputs": [],
   "source": [
    "#Vectorización\n",
    "from sklearn.feature_extraction.text import TfidfVectorizer\n",
    "\n",
    "tf_idf=TfidfVectorizer(ngram_range=(1,2))"
   ]
  },
  {
   "cell_type": "markdown",
   "metadata": {},
   "source": [
    "## Modelado"
   ]
  },
  {
   "cell_type": "markdown",
   "metadata": {},
   "source": [
    "Voy a probar DecisionTreeClassifier, Sequential y XGBoost. Utilizaremos GridSearchCV. Como métricas usaré  AUC ROC, Accuracy, ConfusionMatrix."
   ]
  },
  {
   "cell_type": "code",
   "execution_count": 28,
   "metadata": {},
   "outputs": [],
   "source": [
    "from sklearn.model_selection import GridSearchCV\n",
    "from sklearn.metrics import accuracy_score, confusion_matrix, roc_auc_score, classification_report"
   ]
  },
  {
   "cell_type": "code",
   "execution_count": 29,
   "metadata": {},
   "outputs": [],
   "source": [
    "#Preparo conjunto train-test\n",
    "from sklearn.model_selection import train_test_split\n",
    "X=df_final.reviews_normalizadas\n",
    "y=df_final.feedback\n",
    "\n",
    "X_train, X_test, y_train, y_test = train_test_split(X, y, test_size = 0.25, stratify=y, random_state = 12)\n",
    "\n",
    "#Vectorizo los datos\n",
    "X_train = tf_idf.fit_transform(X_train).toarray()\n",
    "X_test = tf_idf.transform(X_test).toarray()\n",
    "y_train = np.array(y_train)\n",
    "y_test = np.array(y_test)"
   ]
  },
  {
   "cell_type": "code",
   "execution_count": 30,
   "metadata": {},
   "outputs": [
    {
     "name": "stdout",
     "output_type": "stream",
     "text": [
      "(2272, 19475)\n",
      "(2272,)\n",
      "(758, 19475)\n",
      "(758,)\n"
     ]
    }
   ],
   "source": [
    "print(X_train.shape)\n",
    "print(y_train.shape)\n",
    "print(X_test.shape)\n",
    "print(y_test.shape)"
   ]
  },
  {
   "cell_type": "code",
   "execution_count": 31,
   "metadata": {},
   "outputs": [
    {
     "name": "stdout",
     "output_type": "stream",
     "text": [
      "100 palabras mas usadas:  ['abay', 'abay monitor', 'abc', 'abc day', 'abd', 'abd start', 'ability', 'ability contact', 'ability control', 'ability create', 'ability example', 'ability fall', 'ability get', 'ability listen', 'ability multiple', 'ability night', 'ability play', 'ability talk', 'able', 'able access', 'able accomplish', 'able add', 'able alexa', 'able answer', 'able buy', 'able connect', 'able contact', 'able control', 'able download', 'able explore', 'able find', 'able follow', 'able hear', 'able hook', 'able install', 'able interpret', 'able link', 'able listen', 'able make', 'able manage', 'able open', 'able play', 'able put', 'able read', 'able see', 'able self', 'able set', 'able shout', 'able start', 'able sync', 'able talk', 'able tell', 'able turn', 'able use', 'able voice', 'able watch', 'abode', 'abode home', 'absolutely', 'absolutely amaze', 'absolutely everything', 'absolutely great', 'absolutely love', 'absolutely response', 'absolutly', 'absolutly love', 'ac', 'ac thermostat', 'ac wifi', 'accent', 'accent day', 'accent low', 'accent music', 'acceptable', 'acceptable option', 'access', 'access alexa', 'access apps', 'access current', 'access definitely', 'access device', 'access disappointed', 'access echo', 'access flash', 'access intelagence', 'access million', 'access much', 'access music', 'access news', 'access pandora', 'access phone', 'access well', 'access world', 'access youtube', 'accessable', 'accessable wish', 'accessible', 'accessible found', 'accessory', 'accident']\n"
     ]
    }
   ],
   "source": [
    "# Vizualizamos las 100 palabras mas usadas\n",
    "all_words = tf_idf.get_feature_names()\n",
    "print(\"100 palabras mas usadas: \",all_words[0:100])"
   ]
  },
  {
   "cell_type": "code",
   "execution_count": 32,
   "metadata": {},
   "outputs": [
    {
     "data": {
      "text/plain": [
       "array([[0., 0., 0., ..., 0., 0., 0.],\n",
       "       [0., 0., 0., ..., 0., 0., 0.],\n",
       "       [0., 0., 0., ..., 0., 0., 0.],\n",
       "       ...,\n",
       "       [0., 0., 0., ..., 0., 0., 0.],\n",
       "       [0., 0., 0., ..., 0., 0., 0.],\n",
       "       [0., 0., 0., ..., 0., 0., 0.]])"
      ]
     },
     "execution_count": 32,
     "metadata": {},
     "output_type": "execute_result"
    }
   ],
   "source": [
    "X_train"
   ]
  },
  {
   "cell_type": "code",
   "execution_count": 33,
   "metadata": {},
   "outputs": [
    {
     "data": {
      "text/plain": [
       "array([1, 1, 0, ..., 1, 1, 0], dtype=int64)"
      ]
     },
     "execution_count": 33,
     "metadata": {},
     "output_type": "execute_result"
    }
   ],
   "source": [
    "y_train"
   ]
  },
  {
   "cell_type": "markdown",
   "metadata": {},
   "source": [
    "### DecisionTreeClassifier"
   ]
  },
  {
   "cell_type": "code",
   "execution_count": 34,
   "metadata": {},
   "outputs": [],
   "source": [
    "from sklearn.tree import DecisionTreeClassifier\n",
    "\n",
    "estimator = DecisionTreeClassifier(random_state=12)\n",
    "param_grid={\"max_depth\":[5,10,15]}\n",
    "\n",
    "dtc=GridSearchCV(estimator, param_grid, cv=5, return_train_score=True)"
   ]
  },
  {
   "cell_type": "code",
   "execution_count": 35,
   "metadata": {},
   "outputs": [
    {
     "data": {
      "text/plain": [
       "GridSearchCV(cv=5, error_score='raise-deprecating',\n",
       "             estimator=DecisionTreeClassifier(class_weight=None,\n",
       "                                              criterion='gini', max_depth=None,\n",
       "                                              max_features=None,\n",
       "                                              max_leaf_nodes=None,\n",
       "                                              min_impurity_decrease=0.0,\n",
       "                                              min_impurity_split=None,\n",
       "                                              min_samples_leaf=1,\n",
       "                                              min_samples_split=2,\n",
       "                                              min_weight_fraction_leaf=0.0,\n",
       "                                              presort=False, random_state=12,\n",
       "                                              splitter='best'),\n",
       "             iid='warn', n_jobs=None, param_grid={'max_depth': [5, 10, 15]},\n",
       "             pre_dispatch='2*n_jobs', refit=True, return_train_score=True,\n",
       "             scoring=None, verbose=0)"
      ]
     },
     "execution_count": 35,
     "metadata": {},
     "output_type": "execute_result"
    }
   ],
   "source": [
    "#Entreno\n",
    "dtc.fit(X_train, y_train)"
   ]
  },
  {
   "cell_type": "code",
   "execution_count": 36,
   "metadata": {},
   "outputs": [
    {
     "data": {
      "text/html": [
       "<div>\n",
       "<style scoped>\n",
       "    .dataframe tbody tr th:only-of-type {\n",
       "        vertical-align: middle;\n",
       "    }\n",
       "\n",
       "    .dataframe tbody tr th {\n",
       "        vertical-align: top;\n",
       "    }\n",
       "\n",
       "    .dataframe thead th {\n",
       "        text-align: right;\n",
       "    }\n",
       "</style>\n",
       "<table border=\"1\" class=\"dataframe\">\n",
       "  <thead>\n",
       "    <tr style=\"text-align: right;\">\n",
       "      <th></th>\n",
       "      <th>params</th>\n",
       "      <th>rank_test_score</th>\n",
       "      <th>mean_test_score</th>\n",
       "      <th>mean_train_score</th>\n",
       "    </tr>\n",
       "  </thead>\n",
       "  <tbody>\n",
       "    <tr>\n",
       "      <td>0</td>\n",
       "      <td>{'max_depth': 5}</td>\n",
       "      <td>1</td>\n",
       "      <td>0.927817</td>\n",
       "      <td>0.944872</td>\n",
       "    </tr>\n",
       "    <tr>\n",
       "      <td>1</td>\n",
       "      <td>{'max_depth': 10}</td>\n",
       "      <td>2</td>\n",
       "      <td>0.924736</td>\n",
       "      <td>0.955986</td>\n",
       "    </tr>\n",
       "    <tr>\n",
       "      <td>2</td>\n",
       "      <td>{'max_depth': 15}</td>\n",
       "      <td>2</td>\n",
       "      <td>0.924736</td>\n",
       "      <td>0.964019</td>\n",
       "    </tr>\n",
       "  </tbody>\n",
       "</table>\n",
       "</div>"
      ],
      "text/plain": [
       "              params  rank_test_score  mean_test_score  mean_train_score\n",
       "0   {'max_depth': 5}                1         0.927817          0.944872\n",
       "1  {'max_depth': 10}                2         0.924736          0.955986\n",
       "2  {'max_depth': 15}                2         0.924736          0.964019"
      ]
     },
     "execution_count": 36,
     "metadata": {},
     "output_type": "execute_result"
    }
   ],
   "source": [
    "pd.DataFrame(dtc.cv_results_).sort_values(by='mean_test_score',ascending=False)[['params','rank_test_score','mean_test_score','mean_train_score']]"
   ]
  },
  {
   "cell_type": "code",
   "execution_count": 37,
   "metadata": {},
   "outputs": [],
   "source": [
    "#Obtengo el mejor estimador\n",
    "dtc=dtc.best_estimator_"
   ]
  },
  {
   "cell_type": "code",
   "execution_count": 38,
   "metadata": {},
   "outputs": [],
   "source": [
    "#Hago la predicción\n",
    "y_pred_dtc=dtc.predict(X_test)"
   ]
  },
  {
   "cell_type": "code",
   "execution_count": 39,
   "metadata": {},
   "outputs": [
    {
     "data": {
      "text/plain": [
       "<matplotlib.axes._subplots.AxesSubplot at 0x1c4b4b2d8c8>"
      ]
     },
     "execution_count": 39,
     "metadata": {},
     "output_type": "execute_result"
    },
    {
     "data": {
      "image/png": "[encoded data removed]",
      "text/plain": [
       "<Figure size 432x288 with 2 Axes>"
      ]
     },
     "metadata": {
      "needs_background": "light"
     },
     "output_type": "display_data"
    }
   ],
   "source": [
    "#Dibujo la matriz de confusión\n",
    "sns.heatmap(confusion_matrix(y_test,y_pred_dtc), annot=True, cmap=\"Blues\", square=True)"
   ]
  },
  {
   "cell_type": "code",
   "execution_count": 40,
   "metadata": {},
   "outputs": [
    {
     "name": "stdout",
     "output_type": "stream",
     "text": [
      "              precision    recall  f1-score   support\n",
      "\n",
      "           0       0.80      0.27      0.41        59\n",
      "           1       0.94      0.99      0.97       699\n",
      "\n",
      "    accuracy                           0.94       758\n",
      "   macro avg       0.87      0.63      0.69       758\n",
      "weighted avg       0.93      0.94      0.92       758\n",
      "\n"
     ]
    }
   ],
   "source": [
    "print(classification_report(y_test, y_pred_dtc))"
   ]
  },
  {
   "cell_type": "code",
   "execution_count": 41,
   "metadata": {},
   "outputs": [
    {
     "name": "stdout",
     "output_type": "stream",
     "text": [
      "0.6327319900099415\n",
      "0.9379947229551451\n"
     ]
    }
   ],
   "source": [
    "print(roc_auc_score(y_test, y_pred_dtc))\n",
    "print(accuracy_score(y_test, y_pred_dtc))"
   ]
  },
  {
   "cell_type": "markdown",
   "metadata": {},
   "source": [
    "### Sequential"
   ]
  },
  {
   "cell_type": "code",
   "execution_count": 42,
   "metadata": {},
   "outputs": [
    {
     "name": "stderr",
     "output_type": "stream",
     "text": [
      "Using TensorFlow backend.\n"
     ]
    }
   ],
   "source": [
    "import keras\n",
    "from keras.models import Sequential\n",
    "from keras.layers import Dense\n",
    "\n",
    "seq = Sequential()\n",
    "seq.add(Dense(6, activation='relu'))\n",
    "seq.add(Dense(9, activation='relu'))\n",
    "seq.add(Dense(9, activation='relu'))\n",
    "seq.add(Dense(9, activation='relu'))\n",
    "seq.add(Dense(9, activation='relu'))\n",
    "seq.add(Dense(1, activation='softmax'))\n",
    "\n",
    "optimizer = keras.optimizers.Adam()\n",
    "seq.compile(optimizer=optimizer, loss='binary_crossentropy',metrics=['accuracy'])"
   ]
  },
  {
   "cell_type": "code",
   "execution_count": 43,
   "metadata": {},
   "outputs": [
    {
     "name": "stdout",
     "output_type": "stream",
     "text": [
      "Train on 1704 samples, validate on 568 samples\n",
      "Epoch 1/20\n",
      "1704/1704 [==============================] - 3s 2ms/step - loss: 1.2328 - accuracy: 0.9196 - val_loss: 1.0798 - val_accuracy: 0.9296\n",
      "Epoch 2/20\n",
      "1704/1704 [==============================] - 1s 429us/step - loss: 1.2328 - accuracy: 0.9196 - val_loss: 1.0798 - val_accuracy: 0.9296\n",
      "Epoch 3/20\n",
      "1704/1704 [==============================] - 1s 430us/step - loss: 1.2328 - accuracy: 0.9196 - val_loss: 1.0798 - val_accuracy: 0.9296\n",
      "Epoch 4/20\n",
      "1704/1704 [==============================] - 1s 432us/step - loss: 1.2328 - accuracy: 0.9196 - val_loss: 1.0798 - val_accuracy: 0.9296\n",
      "Epoch 5/20\n",
      "1704/1704 [==============================] - 1s 432us/step - loss: 1.2328 - accuracy: 0.9196 - val_loss: 1.0798 - val_accuracy: 0.9296\n",
      "Epoch 6/20\n",
      "1704/1704 [==============================] - 1s 443us/step - loss: 1.2328 - accuracy: 0.9196 - val_loss: 1.0798 - val_accuracy: 0.9296\n",
      "Epoch 7/20\n",
      "1704/1704 [==============================] - 1s 452us/step - loss: 1.2328 - accuracy: 0.9196 - val_loss: 1.0798 - val_accuracy: 0.9296\n",
      "Epoch 8/20\n",
      "1704/1704 [==============================] - 1s 466us/step - loss: 1.2328 - accuracy: 0.9196 - val_loss: 1.0798 - val_accuracy: 0.9296\n",
      "Epoch 9/20\n",
      "1704/1704 [==============================] - 1s 461us/step - loss: 1.2328 - accuracy: 0.9196 - val_loss: 1.0798 - val_accuracy: 0.9296\n",
      "Epoch 10/20\n",
      "1704/1704 [==============================] - 1s 447us/step - loss: 1.2328 - accuracy: 0.9196 - val_loss: 1.0798 - val_accuracy: 0.9296\n",
      "Epoch 11/20\n",
      "1704/1704 [==============================] - 1s 463us/step - loss: 1.2328 - accuracy: 0.9196 - val_loss: 1.0798 - val_accuracy: 0.9296\n",
      "Epoch 12/20\n",
      "1704/1704 [==============================] - 1s 462us/step - loss: 1.2328 - accuracy: 0.9196 - val_loss: 1.0798 - val_accuracy: 0.9296\n",
      "Epoch 13/20\n",
      "1704/1704 [==============================] - 1s 465us/step - loss: 1.2328 - accuracy: 0.9196 - val_loss: 1.0798 - val_accuracy: 0.9296\n",
      "Epoch 14/20\n",
      "1704/1704 [==============================] - 1s 479us/step - loss: 1.2328 - accuracy: 0.9196 - val_loss: 1.0798 - val_accuracy: 0.9296\n",
      "Epoch 15/20\n",
      "1704/1704 [==============================] - 1s 486us/step - loss: 1.2328 - accuracy: 0.9196 - val_loss: 1.0798 - val_accuracy: 0.9296\n",
      "Epoch 16/20\n",
      "1704/1704 [==============================] - 1s 498us/step - loss: 1.2328 - accuracy: 0.9196 - val_loss: 1.0798 - val_accuracy: 0.9296\n",
      "Epoch 17/20\n",
      "1704/1704 [==============================] - 1s 470us/step - loss: 1.2328 - accuracy: 0.9196 - val_loss: 1.0798 - val_accuracy: 0.9296\n",
      "Epoch 18/20\n",
      "1704/1704 [==============================] - 1s 465us/step - loss: 1.2328 - accuracy: 0.9196 - val_loss: 1.0798 - val_accuracy: 0.9296\n",
      "Epoch 19/20\n",
      "1704/1704 [==============================] - 1s 469us/step - loss: 1.2328 - accuracy: 0.9196 - val_loss: 1.0798 - val_accuracy: 0.9296\n",
      "Epoch 20/20\n",
      "1704/1704 [==============================] - 1s 455us/step - loss: 1.2328 - accuracy: 0.9196 - val_loss: 1.0798 - val_accuracy: 0.9296\n"
     ]
    },
    {
     "data": {
      "text/plain": [
       "<keras.callbacks.callbacks.History at 0x1c4d9a63208>"
      ]
     },
     "execution_count": 43,
     "metadata": {},
     "output_type": "execute_result"
    }
   ],
   "source": [
    "seq.fit(X_train, y_train, epochs=20, validation_split=0.25)"
   ]
  },
  {
   "cell_type": "code",
   "execution_count": 44,
   "metadata": {},
   "outputs": [],
   "source": [
    "y_pred_seq=seq.predict(X_test)"
   ]
  },
  {
   "cell_type": "code",
   "execution_count": 45,
   "metadata": {},
   "outputs": [
    {
     "data": {
      "text/plain": [
       "<matplotlib.axes._subplots.AxesSubplot at 0x1c4d9e71d48>"
      ]
     },
     "execution_count": 45,
     "metadata": {},
     "output_type": "execute_result"
    },
    {
     "data": {
      "image/png": "[encoded data removed]",
      "text/plain": [
       "<Figure size 432x288 with 2 Axes>"
      ]
     },
     "metadata": {
      "needs_background": "light"
     },
     "output_type": "display_data"
    }
   ],
   "source": [
    "sns.heatmap(confusion_matrix(y_test,y_pred_seq), annot=True, cmap=\"Blues\", square=True)"
   ]
  },
  {
   "cell_type": "code",
   "execution_count": 46,
   "metadata": {},
   "outputs": [
    {
     "name": "stdout",
     "output_type": "stream",
     "text": [
      "              precision    recall  f1-score   support\n",
      "\n",
      "           0       0.00      0.00      0.00        59\n",
      "           1       0.92      1.00      0.96       699\n",
      "\n",
      "    accuracy                           0.92       758\n",
      "   macro avg       0.46      0.50      0.48       758\n",
      "weighted avg       0.85      0.92      0.88       758\n",
      "\n"
     ]
    }
   ],
   "source": [
    "print(classification_report(y_test, y_pred_seq))"
   ]
  },
  {
   "cell_type": "code",
   "execution_count": 47,
   "metadata": {},
   "outputs": [
    {
     "name": "stdout",
     "output_type": "stream",
     "text": [
      "Roc Score: 0.5\n",
      "Accuracy Socre: 0.9221635883905013\n"
     ]
    }
   ],
   "source": [
    "print(\"Roc Score:\", roc_auc_score(y_test, y_pred_seq))\n",
    "print(\"Accuracy Socre:\",accuracy_score(y_test, y_pred_seq))"
   ]
  },
  {
   "cell_type": "markdown",
   "metadata": {},
   "source": [
    "## XGBoost"
   ]
  },
  {
   "cell_type": "code",
   "execution_count": 48,
   "metadata": {},
   "outputs": [],
   "source": [
    "from xgboost import XGBClassifier\n",
    "\n",
    "xgb= XGBClassifier(random_state=12)"
   ]
  },
  {
   "cell_type": "code",
   "execution_count": 49,
   "metadata": {},
   "outputs": [
    {
     "data": {
      "text/plain": [
       "XGBClassifier(base_score=0.5, booster='gbtree', colsample_bylevel=1,\n",
       "              colsample_bynode=1, colsample_bytree=1, gamma=0, gpu_id=-1,\n",
       "              importance_type='gain', interaction_constraints='',\n",
       "              learning_rate=0.300000012, max_delta_step=0, max_depth=6,\n",
       "              min_child_weight=1, missing=nan, monotone_constraints='()',\n",
       "              n_estimators=100, n_jobs=0, num_parallel_tree=1,\n",
       "              objective='binary:logistic', random_state=12, reg_alpha=0,\n",
       "              reg_lambda=1, scale_pos_weight=1, subsample=1,\n",
       "              tree_method='exact', validate_parameters=1, verbosity=None)"
      ]
     },
     "execution_count": 49,
     "metadata": {},
     "output_type": "execute_result"
    }
   ],
   "source": [
    "xgb.fit(X_train, y_train)"
   ]
  },
  {
   "cell_type": "code",
   "execution_count": 50,
   "metadata": {},
   "outputs": [],
   "source": [
    "y_pred_xgb=xgb.predict(X_test)"
   ]
  },
  {
   "cell_type": "code",
   "execution_count": 51,
   "metadata": {},
   "outputs": [
    {
     "data": {
      "text/plain": [
       "<matplotlib.axes._subplots.AxesSubplot at 0x1c48aa19f08>"
      ]
     },
     "execution_count": 51,
     "metadata": {},
     "output_type": "execute_result"
    },
    {
     "data": {
      "image/png": "[encoded data removed]",
      "text/plain": [
       "<Figure size 432x288 with 2 Axes>"
      ]
     },
     "metadata": {
      "needs_background": "light"
     },
     "output_type": "display_data"
    }
   ],
   "source": [
    "sns.heatmap(confusion_matrix(y_test,y_pred_xgb), annot=True, cmap=\"Blues\", square=True)"
   ]
  },
  {
   "cell_type": "code",
   "execution_count": 52,
   "metadata": {},
   "outputs": [
    {
     "name": "stdout",
     "output_type": "stream",
     "text": [
      "              precision    recall  f1-score   support\n",
      "\n",
      "           0       0.78      0.31      0.44        59\n",
      "           1       0.94      0.99      0.97       699\n",
      "\n",
      "    accuracy                           0.94       758\n",
      "   macro avg       0.86      0.65      0.70       758\n",
      "weighted avg       0.93      0.94      0.93       758\n",
      "\n"
     ]
    }
   ],
   "source": [
    "print(classification_report(y_test, y_pred_xgb))"
   ]
  },
  {
   "cell_type": "code",
   "execution_count": 53,
   "metadata": {},
   "outputs": [
    {
     "name": "stdout",
     "output_type": "stream",
     "text": [
      "Roc Score: 0.648965834970054\n",
      "Accuracy Socre: 0.9393139841688655\n"
     ]
    }
   ],
   "source": [
    "print(\"Roc Score:\", roc_auc_score(y_test, y_pred_xgb))\n",
    "print(\"Accuracy Socre:\", accuracy_score(y_test, y_pred_xgb))"
   ]
  },
  {
   "cell_type": "markdown",
   "metadata": {},
   "source": [
    "## Comparación entre modelos"
   ]
  },
  {
   "cell_type": "code",
   "execution_count": 54,
   "metadata": {},
   "outputs": [],
   "source": [
    "modelos=[\"Arbol de decisión\",\"Red neuronal\",\"XGBoost\"]\n",
    "roc_scores=[roc_auc_score(y_test, y_pred_dtc), roc_auc_score(y_test, y_pred_seq), roc_auc_score(y_test, y_pred_xgb)]\n",
    "acc_scores=[accuracy_score(y_test, y_pred_dtc), accuracy_score(y_test, y_pred_seq), accuracy_score(y_test, y_pred_xgb)]"
   ]
  },
  {
   "cell_type": "code",
   "execution_count": 55,
   "metadata": {},
   "outputs": [
    {
     "name": "stdout",
     "output_type": "stream",
     "text": [
      "---------------ROC_AUC---------------------------\n",
      "Arbol de decisión: 0.6327319900099415\n",
      "Red neuronal: 0.5\n",
      "XGBoost: 0.648965834970054\n"
     ]
    },
    {
     "data": {
      "text/plain": [
       "<matplotlib.axes._subplots.AxesSubplot at 0x1c480040208>"
      ]
     },
     "execution_count": 55,
     "metadata": {},
     "output_type": "execute_result"
    },
    {
     "data": {
      "image/png": "[encoded data removed]",
      "text/plain": [
       "<Figure size 432x288 with 1 Axes>"
      ]
     },
     "metadata": {
      "needs_background": "light"
     },
     "output_type": "display_data"
    }
   ],
   "source": [
    "print(\"---------------ROC_AUC---------------------------\")\n",
    "print(\"Arbol de decisión:\",roc_auc_score(y_test, y_pred_dtc))\n",
    "print(\"Red neuronal:\",roc_auc_score(y_test, y_pred_seq))\n",
    "print(\"XGBoost:\",roc_auc_score(y_test, y_pred_xgb))\n",
    "sns.barplot(x=modelos, y=roc_scores, )"
   ]
  },
  {
   "cell_type": "code",
   "execution_count": 56,
   "metadata": {},
   "outputs": [
    {
     "name": "stdout",
     "output_type": "stream",
     "text": [
      "---------------Accuracy---------------------------\n",
      "Arbol de decisión: 0.9379947229551451\n",
      "Red neuronal: 0.9221635883905013\n",
      "XGBoost: 0.9393139841688655\n"
     ]
    },
    {
     "data": {
      "text/plain": [
       "<matplotlib.axes._subplots.AxesSubplot at 0x1c48009dbc8>"
      ]
     },
     "execution_count": 56,
     "metadata": {},
     "output_type": "execute_result"
    },
    {
     "data": {
      "image/png": "[encoded data removed]",
      "text/plain": [
       "<Figure size 432x288 with 1 Axes>"
      ]
     },
     "metadata": {
      "needs_background": "light"
     },
     "output_type": "display_data"
    }
   ],
   "source": [
    "print(\"---------------Accuracy---------------------------\")\n",
    "print(\"Arbol de decisión:\",accuracy_score(y_test, y_pred_dtc))\n",
    "print(\"Red neuronal:\",accuracy_score(y_test, y_pred_seq))\n",
    "print(\"XGBoost:\",accuracy_score(y_test, y_pred_xgb))\n",
    "sns.barplot(x=modelos, y=acc_scores, )"
   ]
  },
  {
   "cell_type": "code",
   "execution_count": null,
   "metadata": {},
   "outputs": [],
   "source": []
  }
 ],
 "metadata": {
  "kernelspec": {
   "display_name": "Python 3",
   "language": "python",
   "name": "python3"
  },
  "language_info": {
   "codemirror_mode": {
    "name": "ipython",
    "version": 3
   },
   "file_extension": ".py",
   "mimetype": "text/x-python",
   "name": "python",
   "nbconvert_exporter": "python",
   "pygments_lexer": "ipython3",
   "version": "3.7.4"
  }
 },
 "nbformat": 4,
 "nbformat_minor": 2
}
